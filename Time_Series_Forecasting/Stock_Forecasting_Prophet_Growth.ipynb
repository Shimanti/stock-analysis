{
 "cells": [
  {
   "cell_type": "markdown",
   "metadata": {
    "nteract": {
     "transient": {
      "deleting": false
     }
    }
   },
   "source": [
    "# Stock Forecasting using Prophet (Saturating Growth)"
   ]
  },
  {
   "cell_type": "markdown",
   "metadata": {
    "nteract": {
     "transient": {
      "deleting": false
     }
    }
   },
   "source": [
    "https://facebook.github.io/prophet/"
   ]
  },
  {
   "cell_type": "code",
   "execution_count": 16,
   "metadata": {
    "execution": {
     "iopub.execute_input": "2021-11-27T02:41:23.537Z",
     "iopub.status.busy": "2021-11-27T02:41:23.532Z",
     "iopub.status.idle": "2021-11-27T02:41:25.664Z",
     "shell.execute_reply": "2021-11-27T02:41:25.659Z"
    },
    "jupyter": {
     "outputs_hidden": false,
     "source_hidden": false
    },
    "nteract": {
     "transient": {
      "deleting": false
     }
    }
   },
   "outputs": [],
   "source": [
    "# Libraries\n",
    "\n",
    "import pandas as pd\n",
    "import numpy as np\n",
    "import matplotlib.pyplot as plt\n",
    "import seaborn as sns\n",
    "from prophet import Prophet\n",
    "\n",
    "import warnings\n",
    "warnings.filterwarnings(\"ignore\")\n",
    "\n",
    "import yfinance as yf\n",
    "yf.pdr_override()"
   ]
  },
  {
   "cell_type": "code",
   "execution_count": 17,
   "metadata": {
    "execution": {
     "iopub.execute_input": "2021-11-27T02:41:25.673Z",
     "iopub.status.busy": "2021-11-27T02:41:25.669Z",
     "iopub.status.idle": "2021-11-27T02:41:26.737Z",
     "shell.execute_reply": "2021-11-27T02:41:26.852Z"
    },
    "jupyter": {
     "outputs_hidden": false,
     "source_hidden": false
    },
    "nteract": {
     "transient": {
      "deleting": false
     }
    }
   },
   "outputs": [
    {
     "name": "stdout",
     "output_type": "stream",
     "text": [
      "[*********************100%***********************]  1 of 1 completed\n"
     ]
    }
   ],
   "source": [
    "stock = 'TSLA' # input\n",
    "start = '2012-01-01' # input \n",
    "end = '2022-04-29'  # input\n",
    "df = yf.download(stock, start, end)"
   ]
  },
  {
   "cell_type": "code",
   "execution_count": 18,
   "metadata": {
    "execution": {
     "iopub.execute_input": "2021-11-27T02:41:26.746Z",
     "iopub.status.busy": "2021-11-27T02:41:26.742Z",
     "iopub.status.idle": "2021-11-27T02:41:26.755Z",
     "shell.execute_reply": "2021-11-27T02:41:26.855Z"
    },
    "jupyter": {
     "outputs_hidden": false,
     "source_hidden": false
    },
    "nteract": {
     "transient": {
      "deleting": false
     }
    }
   },
   "outputs": [
    {
     "data": {
      "text/html": [
       "<div>\n",
       "<style scoped>\n",
       "    .dataframe tbody tr th:only-of-type {\n",
       "        vertical-align: middle;\n",
       "    }\n",
       "\n",
       "    .dataframe tbody tr th {\n",
       "        vertical-align: top;\n",
       "    }\n",
       "\n",
       "    .dataframe thead th {\n",
       "        text-align: right;\n",
       "    }\n",
       "</style>\n",
       "<table border=\"1\" class=\"dataframe\">\n",
       "  <thead>\n",
       "    <tr style=\"text-align: right;\">\n",
       "      <th></th>\n",
       "      <th>Open</th>\n",
       "      <th>High</th>\n",
       "      <th>Low</th>\n",
       "      <th>Close</th>\n",
       "      <th>Adj Close</th>\n",
       "      <th>Volume</th>\n",
       "    </tr>\n",
       "    <tr>\n",
       "      <th>Date</th>\n",
       "      <th></th>\n",
       "      <th></th>\n",
       "      <th></th>\n",
       "      <th></th>\n",
       "      <th></th>\n",
       "      <th></th>\n",
       "    </tr>\n",
       "  </thead>\n",
       "  <tbody>\n",
       "    <tr>\n",
       "      <th>2012-01-03</th>\n",
       "      <td>5.788</td>\n",
       "      <td>5.900</td>\n",
       "      <td>5.530</td>\n",
       "      <td>5.616</td>\n",
       "      <td>5.616</td>\n",
       "      <td>4640500</td>\n",
       "    </tr>\n",
       "    <tr>\n",
       "      <th>2012-01-04</th>\n",
       "      <td>5.642</td>\n",
       "      <td>5.734</td>\n",
       "      <td>5.500</td>\n",
       "      <td>5.542</td>\n",
       "      <td>5.542</td>\n",
       "      <td>3150500</td>\n",
       "    </tr>\n",
       "    <tr>\n",
       "      <th>2012-01-05</th>\n",
       "      <td>5.552</td>\n",
       "      <td>5.586</td>\n",
       "      <td>5.370</td>\n",
       "      <td>5.424</td>\n",
       "      <td>5.424</td>\n",
       "      <td>5027500</td>\n",
       "    </tr>\n",
       "    <tr>\n",
       "      <th>2012-01-06</th>\n",
       "      <td>5.440</td>\n",
       "      <td>5.558</td>\n",
       "      <td>5.282</td>\n",
       "      <td>5.382</td>\n",
       "      <td>5.382</td>\n",
       "      <td>4931500</td>\n",
       "    </tr>\n",
       "    <tr>\n",
       "      <th>2012-01-09</th>\n",
       "      <td>5.400</td>\n",
       "      <td>5.498</td>\n",
       "      <td>5.224</td>\n",
       "      <td>5.450</td>\n",
       "      <td>5.450</td>\n",
       "      <td>4485000</td>\n",
       "    </tr>\n",
       "  </tbody>\n",
       "</table>\n",
       "</div>"
      ],
      "text/plain": [
       "             Open   High    Low  Close  Adj Close   Volume\n",
       "Date                                                      \n",
       "2012-01-03  5.788  5.900  5.530  5.616      5.616  4640500\n",
       "2012-01-04  5.642  5.734  5.500  5.542      5.542  3150500\n",
       "2012-01-05  5.552  5.586  5.370  5.424      5.424  5027500\n",
       "2012-01-06  5.440  5.558  5.282  5.382      5.382  4931500\n",
       "2012-01-09  5.400  5.498  5.224  5.450      5.450  4485000"
      ]
     },
     "execution_count": 18,
     "metadata": {},
     "output_type": "execute_result"
    }
   ],
   "source": [
    "df.head()"
   ]
  },
  {
   "cell_type": "code",
   "execution_count": 19,
   "metadata": {
    "execution": {
     "iopub.execute_input": "2021-11-27T02:41:26.764Z",
     "iopub.status.busy": "2021-11-27T02:41:26.760Z",
     "iopub.status.idle": "2021-11-27T02:41:26.772Z",
     "shell.execute_reply": "2021-11-27T02:41:26.858Z"
    },
    "jupyter": {
     "outputs_hidden": false,
     "source_hidden": false
    },
    "nteract": {
     "transient": {
      "deleting": false
     }
    }
   },
   "outputs": [
    {
     "data": {
      "text/html": [
       "<div>\n",
       "<style scoped>\n",
       "    .dataframe tbody tr th:only-of-type {\n",
       "        vertical-align: middle;\n",
       "    }\n",
       "\n",
       "    .dataframe tbody tr th {\n",
       "        vertical-align: top;\n",
       "    }\n",
       "\n",
       "    .dataframe thead th {\n",
       "        text-align: right;\n",
       "    }\n",
       "</style>\n",
       "<table border=\"1\" class=\"dataframe\">\n",
       "  <thead>\n",
       "    <tr style=\"text-align: right;\">\n",
       "      <th></th>\n",
       "      <th>Open</th>\n",
       "      <th>High</th>\n",
       "      <th>Low</th>\n",
       "      <th>Close</th>\n",
       "      <th>Adj Close</th>\n",
       "      <th>Volume</th>\n",
       "    </tr>\n",
       "    <tr>\n",
       "      <th>Date</th>\n",
       "      <th></th>\n",
       "      <th></th>\n",
       "      <th></th>\n",
       "      <th></th>\n",
       "      <th></th>\n",
       "      <th></th>\n",
       "    </tr>\n",
       "  </thead>\n",
       "  <tbody>\n",
       "    <tr>\n",
       "      <th>2022-04-22</th>\n",
       "      <td>1014.909973</td>\n",
       "      <td>1034.849976</td>\n",
       "      <td>994.000000</td>\n",
       "      <td>1005.049988</td>\n",
       "      <td>1005.049988</td>\n",
       "      <td>23181600</td>\n",
       "    </tr>\n",
       "    <tr>\n",
       "      <th>2022-04-25</th>\n",
       "      <td>978.969971</td>\n",
       "      <td>1008.619995</td>\n",
       "      <td>975.299988</td>\n",
       "      <td>998.020020</td>\n",
       "      <td>998.020020</td>\n",
       "      <td>22780400</td>\n",
       "    </tr>\n",
       "    <tr>\n",
       "      <th>2022-04-26</th>\n",
       "      <td>995.429993</td>\n",
       "      <td>1000.000000</td>\n",
       "      <td>875.000000</td>\n",
       "      <td>876.419983</td>\n",
       "      <td>876.419983</td>\n",
       "      <td>45377900</td>\n",
       "    </tr>\n",
       "    <tr>\n",
       "      <th>2022-04-27</th>\n",
       "      <td>898.580017</td>\n",
       "      <td>918.000000</td>\n",
       "      <td>877.359985</td>\n",
       "      <td>881.510010</td>\n",
       "      <td>881.510010</td>\n",
       "      <td>25652100</td>\n",
       "    </tr>\n",
       "    <tr>\n",
       "      <th>2022-04-28</th>\n",
       "      <td>899.979980</td>\n",
       "      <td>899.469971</td>\n",
       "      <td>821.700012</td>\n",
       "      <td>877.510010</td>\n",
       "      <td>877.510010</td>\n",
       "      <td>40815887</td>\n",
       "    </tr>\n",
       "  </tbody>\n",
       "</table>\n",
       "</div>"
      ],
      "text/plain": [
       "                   Open         High         Low        Close    Adj Close  \\\n",
       "Date                                                                         \n",
       "2022-04-22  1014.909973  1034.849976  994.000000  1005.049988  1005.049988   \n",
       "2022-04-25   978.969971  1008.619995  975.299988   998.020020   998.020020   \n",
       "2022-04-26   995.429993  1000.000000  875.000000   876.419983   876.419983   \n",
       "2022-04-27   898.580017   918.000000  877.359985   881.510010   881.510010   \n",
       "2022-04-28   899.979980   899.469971  821.700012   877.510010   877.510010   \n",
       "\n",
       "              Volume  \n",
       "Date                  \n",
       "2022-04-22  23181600  \n",
       "2022-04-25  22780400  \n",
       "2022-04-26  45377900  \n",
       "2022-04-27  25652100  \n",
       "2022-04-28  40815887  "
      ]
     },
     "execution_count": 19,
     "metadata": {},
     "output_type": "execute_result"
    }
   ],
   "source": [
    "df.tail()"
   ]
  },
  {
   "cell_type": "code",
   "execution_count": 20,
   "metadata": {
    "execution": {
     "iopub.execute_input": "2021-11-27T02:41:26.782Z",
     "iopub.status.busy": "2021-11-27T02:41:26.777Z",
     "iopub.status.idle": "2021-11-27T02:41:26.791Z",
     "shell.execute_reply": "2021-11-27T02:41:26.860Z"
    },
    "jupyter": {
     "outputs_hidden": false,
     "source_hidden": false
    },
    "nteract": {
     "transient": {
      "deleting": false
     }
    }
   },
   "outputs": [
    {
     "data": {
      "text/html": [
       "<div>\n",
       "<style scoped>\n",
       "    .dataframe tbody tr th:only-of-type {\n",
       "        vertical-align: middle;\n",
       "    }\n",
       "\n",
       "    .dataframe tbody tr th {\n",
       "        vertical-align: top;\n",
       "    }\n",
       "\n",
       "    .dataframe thead th {\n",
       "        text-align: right;\n",
       "    }\n",
       "</style>\n",
       "<table border=\"1\" class=\"dataframe\">\n",
       "  <thead>\n",
       "    <tr style=\"text-align: right;\">\n",
       "      <th></th>\n",
       "      <th>ds</th>\n",
       "      <th>Open</th>\n",
       "      <th>High</th>\n",
       "      <th>Low</th>\n",
       "      <th>y</th>\n",
       "      <th>Adj Close</th>\n",
       "      <th>Volume</th>\n",
       "    </tr>\n",
       "  </thead>\n",
       "  <tbody>\n",
       "    <tr>\n",
       "      <th>0</th>\n",
       "      <td>2012-01-03</td>\n",
       "      <td>5.788000</td>\n",
       "      <td>5.900000</td>\n",
       "      <td>5.530000</td>\n",
       "      <td>5.616000</td>\n",
       "      <td>5.616000</td>\n",
       "      <td>4640500</td>\n",
       "    </tr>\n",
       "    <tr>\n",
       "      <th>1</th>\n",
       "      <td>2012-01-04</td>\n",
       "      <td>5.642000</td>\n",
       "      <td>5.734000</td>\n",
       "      <td>5.500000</td>\n",
       "      <td>5.542000</td>\n",
       "      <td>5.542000</td>\n",
       "      <td>3150500</td>\n",
       "    </tr>\n",
       "    <tr>\n",
       "      <th>2</th>\n",
       "      <td>2012-01-05</td>\n",
       "      <td>5.552000</td>\n",
       "      <td>5.586000</td>\n",
       "      <td>5.370000</td>\n",
       "      <td>5.424000</td>\n",
       "      <td>5.424000</td>\n",
       "      <td>5027500</td>\n",
       "    </tr>\n",
       "    <tr>\n",
       "      <th>3</th>\n",
       "      <td>2012-01-06</td>\n",
       "      <td>5.440000</td>\n",
       "      <td>5.558000</td>\n",
       "      <td>5.282000</td>\n",
       "      <td>5.382000</td>\n",
       "      <td>5.382000</td>\n",
       "      <td>4931500</td>\n",
       "    </tr>\n",
       "    <tr>\n",
       "      <th>4</th>\n",
       "      <td>2012-01-09</td>\n",
       "      <td>5.400000</td>\n",
       "      <td>5.498000</td>\n",
       "      <td>5.224000</td>\n",
       "      <td>5.450000</td>\n",
       "      <td>5.450000</td>\n",
       "      <td>4485000</td>\n",
       "    </tr>\n",
       "    <tr>\n",
       "      <th>...</th>\n",
       "      <td>...</td>\n",
       "      <td>...</td>\n",
       "      <td>...</td>\n",
       "      <td>...</td>\n",
       "      <td>...</td>\n",
       "      <td>...</td>\n",
       "      <td>...</td>\n",
       "    </tr>\n",
       "    <tr>\n",
       "      <th>2593</th>\n",
       "      <td>2022-04-22</td>\n",
       "      <td>1014.909973</td>\n",
       "      <td>1034.849976</td>\n",
       "      <td>994.000000</td>\n",
       "      <td>1005.049988</td>\n",
       "      <td>1005.049988</td>\n",
       "      <td>23181600</td>\n",
       "    </tr>\n",
       "    <tr>\n",
       "      <th>2594</th>\n",
       "      <td>2022-04-25</td>\n",
       "      <td>978.969971</td>\n",
       "      <td>1008.619995</td>\n",
       "      <td>975.299988</td>\n",
       "      <td>998.020020</td>\n",
       "      <td>998.020020</td>\n",
       "      <td>22780400</td>\n",
       "    </tr>\n",
       "    <tr>\n",
       "      <th>2595</th>\n",
       "      <td>2022-04-26</td>\n",
       "      <td>995.429993</td>\n",
       "      <td>1000.000000</td>\n",
       "      <td>875.000000</td>\n",
       "      <td>876.419983</td>\n",
       "      <td>876.419983</td>\n",
       "      <td>45377900</td>\n",
       "    </tr>\n",
       "    <tr>\n",
       "      <th>2596</th>\n",
       "      <td>2022-04-27</td>\n",
       "      <td>898.580017</td>\n",
       "      <td>918.000000</td>\n",
       "      <td>877.359985</td>\n",
       "      <td>881.510010</td>\n",
       "      <td>881.510010</td>\n",
       "      <td>25652100</td>\n",
       "    </tr>\n",
       "    <tr>\n",
       "      <th>2597</th>\n",
       "      <td>2022-04-28</td>\n",
       "      <td>899.979980</td>\n",
       "      <td>899.469971</td>\n",
       "      <td>821.700012</td>\n",
       "      <td>877.510010</td>\n",
       "      <td>877.510010</td>\n",
       "      <td>40815887</td>\n",
       "    </tr>\n",
       "  </tbody>\n",
       "</table>\n",
       "<p>2598 rows × 7 columns</p>\n",
       "</div>"
      ],
      "text/plain": [
       "             ds         Open         High         Low            y  \\\n",
       "0    2012-01-03     5.788000     5.900000    5.530000     5.616000   \n",
       "1    2012-01-04     5.642000     5.734000    5.500000     5.542000   \n",
       "2    2012-01-05     5.552000     5.586000    5.370000     5.424000   \n",
       "3    2012-01-06     5.440000     5.558000    5.282000     5.382000   \n",
       "4    2012-01-09     5.400000     5.498000    5.224000     5.450000   \n",
       "...         ...          ...          ...         ...          ...   \n",
       "2593 2022-04-22  1014.909973  1034.849976  994.000000  1005.049988   \n",
       "2594 2022-04-25   978.969971  1008.619995  975.299988   998.020020   \n",
       "2595 2022-04-26   995.429993  1000.000000  875.000000   876.419983   \n",
       "2596 2022-04-27   898.580017   918.000000  877.359985   881.510010   \n",
       "2597 2022-04-28   899.979980   899.469971  821.700012   877.510010   \n",
       "\n",
       "        Adj Close    Volume  \n",
       "0        5.616000   4640500  \n",
       "1        5.542000   3150500  \n",
       "2        5.424000   5027500  \n",
       "3        5.382000   4931500  \n",
       "4        5.450000   4485000  \n",
       "...           ...       ...  \n",
       "2593  1005.049988  23181600  \n",
       "2594   998.020020  22780400  \n",
       "2595   876.419983  45377900  \n",
       "2596   881.510010  25652100  \n",
       "2597   877.510010  40815887  \n",
       "\n",
       "[2598 rows x 7 columns]"
      ]
     },
     "execution_count": 20,
     "metadata": {},
     "output_type": "execute_result"
    }
   ],
   "source": [
    "df = df.reset_index()\n",
    "df = df.rename(columns={'Date': 'ds', 'Close': 'y'})\n",
    "df"
   ]
  },
  {
   "cell_type": "code",
   "execution_count": 21,
   "metadata": {
    "execution": {
     "iopub.execute_input": "2021-11-27T02:41:26.802Z",
     "iopub.status.busy": "2021-11-27T02:41:26.798Z",
     "iopub.status.idle": "2021-11-27T02:41:26.811Z",
     "shell.execute_reply": "2021-11-27T02:41:26.863Z"
    },
    "jupyter": {
     "outputs_hidden": false,
     "source_hidden": false
    },
    "nteract": {
     "transient": {
      "deleting": false
     }
    }
   },
   "outputs": [
    {
     "data": {
      "text/html": [
       "<div>\n",
       "<style scoped>\n",
       "    .dataframe tbody tr th:only-of-type {\n",
       "        vertical-align: middle;\n",
       "    }\n",
       "\n",
       "    .dataframe tbody tr th {\n",
       "        vertical-align: top;\n",
       "    }\n",
       "\n",
       "    .dataframe thead th {\n",
       "        text-align: right;\n",
       "    }\n",
       "</style>\n",
       "<table border=\"1\" class=\"dataframe\">\n",
       "  <thead>\n",
       "    <tr style=\"text-align: right;\">\n",
       "      <th></th>\n",
       "      <th>ds</th>\n",
       "      <th>y</th>\n",
       "    </tr>\n",
       "  </thead>\n",
       "  <tbody>\n",
       "    <tr>\n",
       "      <th>0</th>\n",
       "      <td>2012-01-03</td>\n",
       "      <td>5.616</td>\n",
       "    </tr>\n",
       "    <tr>\n",
       "      <th>1</th>\n",
       "      <td>2012-01-04</td>\n",
       "      <td>5.542</td>\n",
       "    </tr>\n",
       "    <tr>\n",
       "      <th>2</th>\n",
       "      <td>2012-01-05</td>\n",
       "      <td>5.424</td>\n",
       "    </tr>\n",
       "    <tr>\n",
       "      <th>3</th>\n",
       "      <td>2012-01-06</td>\n",
       "      <td>5.382</td>\n",
       "    </tr>\n",
       "    <tr>\n",
       "      <th>4</th>\n",
       "      <td>2012-01-09</td>\n",
       "      <td>5.450</td>\n",
       "    </tr>\n",
       "  </tbody>\n",
       "</table>\n",
       "</div>"
      ],
      "text/plain": [
       "          ds      y\n",
       "0 2012-01-03  5.616\n",
       "1 2012-01-04  5.542\n",
       "2 2012-01-05  5.424\n",
       "3 2012-01-06  5.382\n",
       "4 2012-01-09  5.450"
      ]
     },
     "execution_count": 21,
     "metadata": {},
     "output_type": "execute_result"
    }
   ],
   "source": [
    "df = df[['ds', 'y']]\n",
    "df.head()"
   ]
  },
  {
   "cell_type": "code",
   "execution_count": 22,
   "metadata": {
    "execution": {
     "iopub.execute_input": "2021-11-27T02:41:26.820Z",
     "iopub.status.busy": "2021-11-27T02:41:26.817Z",
     "iopub.status.idle": "2021-11-27T02:41:26.826Z",
     "shell.execute_reply": "2021-11-27T02:41:26.865Z"
    },
    "jupyter": {
     "outputs_hidden": false,
     "source_hidden": false
    },
    "nteract": {
     "transient": {
      "deleting": false
     }
    }
   },
   "outputs": [],
   "source": [
    "df['cap'] = 1200"
   ]
  },
  {
   "cell_type": "code",
   "execution_count": 23,
   "metadata": {
    "execution": {
     "iopub.execute_input": "2021-11-27T02:41:26.835Z",
     "iopub.status.busy": "2021-11-27T02:41:26.832Z",
     "iopub.status.idle": "2021-11-27T02:41:27.922Z",
     "shell.execute_reply": "2021-11-27T02:41:27.939Z"
    },
    "jupyter": {
     "outputs_hidden": false,
     "source_hidden": false
    },
    "nteract": {
     "transient": {
      "deleting": false
     }
    }
   },
   "outputs": [
    {
     "name": "stdout",
     "output_type": "stream",
     "text": [
      "Initial log joint probability = -34.6846\n"
     ]
    },
    {
     "data": {
      "text/plain": [
       "<prophet.forecaster.Prophet at 0x7fbbc0e45910>"
      ]
     },
     "execution_count": 23,
     "metadata": {},
     "output_type": "execute_result"
    },
    {
     "name": "stdout",
     "output_type": "stream",
     "text": [
      "    Iter      log prob        ||dx||      ||grad||       alpha      alpha0  # evals  Notes \n",
      "      99       6366.34     0.0188852       178.352           1           1      128   \n",
      "    Iter      log prob        ||dx||      ||grad||       alpha      alpha0  # evals  Notes \n",
      "     199       6440.74    0.00120486       85.8467           1           1      253   \n",
      "    Iter      log prob        ||dx||      ||grad||       alpha      alpha0  # evals  Notes \n",
      "     299       6446.46    0.00068346       79.9335       1.929      0.1929      373   \n",
      "    Iter      log prob        ||dx||      ||grad||       alpha      alpha0  # evals  Notes \n",
      "     356       6458.07   0.000107748       239.628   4.766e-07       0.001      498  LS failed, Hessian reset \n",
      "     399       6462.61    0.00273047        324.08           1           1      556   \n",
      "    Iter      log prob        ||dx||      ||grad||       alpha      alpha0  # evals  Notes \n",
      "     488       6483.58   0.000348708       449.843   8.925e-07       0.001      701  LS failed, Hessian reset \n",
      "     499       6485.94    0.00102064       196.833           1           1      712   \n",
      "    Iter      log prob        ||dx||      ||grad||       alpha      alpha0  # evals  Notes \n",
      "     516       6492.48   5.41307e-05       122.375   2.533e-07       0.001      770  LS failed, Hessian reset \n",
      "     599       6496.71    0.00725971       217.105      0.2982           1      875   \n",
      "    Iter      log prob        ||dx||      ||grad||       alpha      alpha0  # evals  Notes \n",
      "     634          6502   5.46454e-05       116.597   2.373e-07       0.001      974  LS failed, Hessian reset \n",
      "     676       6508.46   5.09545e-05       110.224   2.521e-07       0.001     1091  LS failed, Hessian reset \n",
      "     699       6509.73    0.00110014       102.529      0.9837      0.9837     1116   \n",
      "    Iter      log prob        ||dx||      ||grad||       alpha      alpha0  # evals  Notes \n",
      "     799       6518.25     0.0464194       328.319           1           1     1247   \n",
      "    Iter      log prob        ||dx||      ||grad||       alpha      alpha0  # evals  Notes \n",
      "     899       6526.36     0.0052458       361.276           1           1     1370   \n",
      "    Iter      log prob        ||dx||      ||grad||       alpha      alpha0  # evals  Notes \n",
      "     999       6529.65    0.00331751       177.936           1           1     1499   \n",
      "    Iter      log prob        ||dx||      ||grad||       alpha      alpha0  # evals  Notes \n",
      "    1099       6536.39    0.00136523       161.469           1           1     1621   \n",
      "    Iter      log prob        ||dx||      ||grad||       alpha      alpha0  # evals  Notes \n",
      "    1152       6537.48   0.000138475       287.645   8.217e-07       0.001     1732  LS failed, Hessian reset \n",
      "    1199       6538.41   5.34484e-05       118.206      0.2946      0.2946     1796   \n",
      "    Iter      log prob        ||dx||      ||grad||       alpha      alpha0  # evals  Notes \n",
      "    1214       6538.57   7.54192e-05       196.005   3.242e-07       0.001     1853  LS failed, Hessian reset \n",
      "    1265       6538.95   5.03647e-05       120.177   2.185e-07       0.001     1961  LS failed, Hessian reset \n",
      "    1299       6539.17   0.000335098       78.1487      0.2344           1     2000   \n",
      "    Iter      log prob        ||dx||      ||grad||       alpha      alpha0  # evals  Notes \n",
      "    1336       6540.91   0.000408806         824.7   5.847e-07       0.001     2089  LS failed, Hessian reset \n",
      "    1399        6545.5    0.00127452       139.731      0.8097      0.8097     2171   \n",
      "    Iter      log prob        ||dx||      ||grad||       alpha      alpha0  # evals  Notes \n",
      "    1499       6546.59     0.0068211       121.986           1           1     2292   \n",
      "    Iter      log prob        ||dx||      ||grad||       alpha      alpha0  # evals  Notes \n",
      "    1518        6551.9   8.44161e-05       197.313   2.913e-07       0.001     2348  LS failed, Hessian reset \n",
      "    1599       6554.88   0.000316691       106.518      0.4279           1     2454   \n",
      "    Iter      log prob        ||dx||      ||grad||       alpha      alpha0  # evals  Notes \n",
      "    1653       6555.45   0.000264784       358.885   5.011e-07       0.001     2556  LS failed, Hessian reset \n",
      "    1699       6555.84   1.40063e-05       68.7095        0.19        0.19     2613   \n",
      "    Iter      log prob        ||dx||      ||grad||       alpha      alpha0  # evals  Notes \n",
      "    1793        6561.2   0.000549736       1502.22   2.813e-07       0.001     2778  LS failed, Hessian reset \n",
      "    1799       6562.97     0.0081627       975.291           1           1     2784   \n",
      "    Iter      log prob        ||dx||      ||grad||       alpha      alpha0  # evals  Notes \n",
      "    1875       6567.75   8.38285e-05       95.6399   1.744e-07       0.001     2914  LS failed, Hessian reset \n",
      "    1899       6568.47   0.000823644       174.711      0.8432      0.8432     2942   \n",
      "    Iter      log prob        ||dx||      ||grad||       alpha      alpha0  # evals  Notes \n",
      "    1992       6569.05   0.000111066       235.389   8.793e-07       0.001     3091  LS failed, Hessian reset \n",
      "    1999       6569.07   2.55779e-05       74.7506      0.5188      0.5188     3100   \n",
      "    Iter      log prob        ||dx||      ||grad||       alpha      alpha0  # evals  Notes \n",
      "    2033       6569.08   3.27769e-07       76.8323      0.9148      0.9148     3145   \n",
      "Optimization terminated normally: \n",
      "  Convergence detected: relative gradient magnitude is below tolerance\n"
     ]
    }
   ],
   "source": [
    "m = Prophet(growth='logistic', daily_seasonality=True)\n",
    "m.fit(df)"
   ]
  },
  {
   "cell_type": "code",
   "execution_count": 24,
   "metadata": {
    "execution": {
     "iopub.execute_input": "2021-11-27T02:41:27.931Z",
     "iopub.status.busy": "2021-11-27T02:41:27.927Z",
     "iopub.status.idle": "2021-11-27T02:41:29.735Z",
     "shell.execute_reply": "2021-11-27T02:41:29.757Z"
    },
    "jupyter": {
     "outputs_hidden": false,
     "source_hidden": false
    },
    "nteract": {
     "transient": {
      "deleting": false
     }
    }
   },
   "outputs": [
    {
     "data": {
      "image/png": "[encoded data removed]",
      "text/plain": [
       "<Figure size 720x432 with 1 Axes>"
      ]
     },
     "metadata": {},
     "output_type": "display_data"
    }
   ],
   "source": [
    "future = m.make_future_dataframe(periods=365)\n",
    "future['cap'] = 1200\n",
    "fcst = m.predict(future)\n",
    "fig = m.plot(fcst)"
   ]
  },
  {
   "cell_type": "markdown",
   "metadata": {
    "nteract": {
     "transient": {
      "deleting": false
     }
    }
   },
   "source": [
    "### Saturating Minimum"
   ]
  },
  {
   "cell_type": "code",
   "execution_count": 26,
   "metadata": {
    "execution": {
     "iopub.execute_input": "2021-11-27T02:41:29.745Z",
     "iopub.status.busy": "2021-11-27T02:41:29.741Z",
     "iopub.status.idle": "2021-11-27T02:41:31.582Z",
     "shell.execute_reply": "2021-11-27T02:41:31.588Z"
    },
    "jupyter": {
     "outputs_hidden": false,
     "source_hidden": false
    },
    "nteract": {
     "transient": {
      "deleting": false
     }
    }
   },
   "outputs": [
    {
     "name": "stdout",
     "output_type": "stream",
     "text": [
      "Initial log joint probability = -1229.67\n",
      "    Iter      log prob        ||dx||      ||grad||       alpha      alpha0  # evals  Notes \n",
      "      45       2372.35   1.72829e-07       100.227      0.5423      0.5423       61   \n",
      "Optimization terminated normally: \n",
      "  Convergence detected: relative gradient magnitude is below tolerance\n"
     ]
    },
    {
     "data": {
      "image/png": "[encoded data removed]",
      "text/plain": [
       "<Figure size 720x432 with 1 Axes>"
      ]
     },
     "metadata": {},
     "output_type": "display_data"
    }
   ],
   "source": [
    "df['y'] = 600-df['y']\n",
    "df['cap'] = 1200\n",
    "df['floor'] = 600\n",
    "future['cap'] = 1200\n",
    "future['floor'] = 600\n",
    "m = Prophet(growth='logistic', daily_seasonality=True)\n",
    "m.fit(df)\n",
    "fcst = m.predict(future)\n",
    "fig = m.plot(fcst)"
   ]
  },
  {
   "cell_type": "code",
   "execution_count": null,
   "metadata": {},
   "outputs": [],
   "source": []
  },
  {
   "cell_type": "code",
   "execution_count": null,
   "metadata": {},
   "outputs": [],
   "source": []
  }
 ],
 "metadata": {
  "kernel_info": {
   "name": "python3"
  },
  "kernelspec": {
   "display_name": "Python 3 (ipykernel)",
   "language": "python",
   "name": "python3"
  },
  "language_info": {
   "codemirror_mode": {
    "name": "ipython",
    "version": 3
   },
   "file_extension": ".py",
   "mimetype": "text/x-python",
   "name": "python",
   "nbconvert_exporter": "python",
   "pygments_lexer": "ipython3",
   "version": "3.9.7"
  },
  "nteract": {
   "version": "0.28.0"
  }
 },
 "nbformat": 4,
 "nbformat_minor": 1
}
