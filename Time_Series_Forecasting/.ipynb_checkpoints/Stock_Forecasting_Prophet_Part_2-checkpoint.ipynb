{
 "cells": [
  {
   "cell_type": "markdown",
   "metadata": {
    "nteract": {
     "transient": {
      "deleting": false
     }
    }
   },
   "source": [
    "# Stock Forecasting using Prophet Part 2"
   ]
  },
  {
   "cell_type": "markdown",
   "metadata": {
    "nteract": {
     "transient": {
      "deleting": false
     }
    }
   },
   "source": [
    "https://facebook.github.io/prophet/"
   ]
  },
  {
   "cell_type": "code",
   "execution_count": 19,
   "metadata": {
    "execution": {
     "iopub.execute_input": "2021-11-18T01:53:49.590Z",
     "iopub.status.busy": "2021-11-18T01:53:49.584Z",
     "iopub.status.idle": "2021-11-18T01:53:55.955Z",
     "shell.execute_reply": "2021-11-18T01:53:56.017Z"
    },
    "jupyter": {
     "outputs_hidden": false,
     "source_hidden": false
    },
    "nteract": {
     "transient": {
      "deleting": false
     }
    }
   },
   "outputs": [],
   "source": [
    "# Libraries\n",
    "\n",
    "import pandas as pd\n",
    "import numpy as np\n",
    "import matplotlib.pyplot as plt\n",
    "import seaborn as sns\n",
    "from prophet import Prophet\n",
    "\n",
    "import warnings\n",
    "warnings.filterwarnings(\"ignore\")\n",
    "\n",
    "import yfinance as yf\n",
    "yf.pdr_override()"
   ]
  },
  {
   "cell_type": "code",
   "execution_count": 20,
   "metadata": {
    "execution": {
     "iopub.execute_input": "2021-11-18T01:53:55.965Z",
     "iopub.status.busy": "2021-11-18T01:53:55.962Z",
     "iopub.status.idle": "2021-11-18T01:53:58.744Z",
     "shell.execute_reply": "2021-11-18T01:53:58.924Z"
    },
    "jupyter": {
     "outputs_hidden": false,
     "source_hidden": false
    },
    "nteract": {
     "transient": {
      "deleting": false
     }
    }
   },
   "outputs": [
    {
     "name": "stdout",
     "output_type": "stream",
     "text": [
      "[*********************100%***********************]  1 of 1 completed\n"
     ]
    }
   ],
   "source": [
    "stock = 'TSLA' # input\n",
    "start = '2012-01-01' # input \n",
    "end = '2022-04-28'  # input\n",
    "df = yf.download(stock, start, end)"
   ]
  },
  {
   "cell_type": "code",
   "execution_count": 21,
   "metadata": {
    "execution": {
     "iopub.execute_input": "2021-11-18T01:53:58.762Z",
     "iopub.status.busy": "2021-11-18T01:53:58.755Z",
     "iopub.status.idle": "2021-11-18T01:53:58.783Z",
     "shell.execute_reply": "2021-11-18T01:53:58.929Z"
    },
    "jupyter": {
     "outputs_hidden": false,
     "source_hidden": false
    },
    "nteract": {
     "transient": {
      "deleting": false
     }
    }
   },
   "outputs": [
    {
     "data": {
      "text/html": [
       "<div>\n",
       "<style scoped>\n",
       "    .dataframe tbody tr th:only-of-type {\n",
       "        vertical-align: middle;\n",
       "    }\n",
       "\n",
       "    .dataframe tbody tr th {\n",
       "        vertical-align: top;\n",
       "    }\n",
       "\n",
       "    .dataframe thead th {\n",
       "        text-align: right;\n",
       "    }\n",
       "</style>\n",
       "<table border=\"1\" class=\"dataframe\">\n",
       "  <thead>\n",
       "    <tr style=\"text-align: right;\">\n",
       "      <th></th>\n",
       "      <th>Open</th>\n",
       "      <th>High</th>\n",
       "      <th>Low</th>\n",
       "      <th>Close</th>\n",
       "      <th>Adj Close</th>\n",
       "      <th>Volume</th>\n",
       "    </tr>\n",
       "    <tr>\n",
       "      <th>Date</th>\n",
       "      <th></th>\n",
       "      <th></th>\n",
       "      <th></th>\n",
       "      <th></th>\n",
       "      <th></th>\n",
       "      <th></th>\n",
       "    </tr>\n",
       "  </thead>\n",
       "  <tbody>\n",
       "    <tr>\n",
       "      <th>2012-01-03</th>\n",
       "      <td>5.788</td>\n",
       "      <td>5.900</td>\n",
       "      <td>5.530</td>\n",
       "      <td>5.616</td>\n",
       "      <td>5.616</td>\n",
       "      <td>4640500</td>\n",
       "    </tr>\n",
       "    <tr>\n",
       "      <th>2012-01-04</th>\n",
       "      <td>5.642</td>\n",
       "      <td>5.734</td>\n",
       "      <td>5.500</td>\n",
       "      <td>5.542</td>\n",
       "      <td>5.542</td>\n",
       "      <td>3150500</td>\n",
       "    </tr>\n",
       "    <tr>\n",
       "      <th>2012-01-05</th>\n",
       "      <td>5.552</td>\n",
       "      <td>5.586</td>\n",
       "      <td>5.370</td>\n",
       "      <td>5.424</td>\n",
       "      <td>5.424</td>\n",
       "      <td>5027500</td>\n",
       "    </tr>\n",
       "    <tr>\n",
       "      <th>2012-01-06</th>\n",
       "      <td>5.440</td>\n",
       "      <td>5.558</td>\n",
       "      <td>5.282</td>\n",
       "      <td>5.382</td>\n",
       "      <td>5.382</td>\n",
       "      <td>4931500</td>\n",
       "    </tr>\n",
       "    <tr>\n",
       "      <th>2012-01-09</th>\n",
       "      <td>5.400</td>\n",
       "      <td>5.498</td>\n",
       "      <td>5.224</td>\n",
       "      <td>5.450</td>\n",
       "      <td>5.450</td>\n",
       "      <td>4485000</td>\n",
       "    </tr>\n",
       "  </tbody>\n",
       "</table>\n",
       "</div>"
      ],
      "text/plain": [
       "             Open   High    Low  Close  Adj Close   Volume\n",
       "Date                                                      \n",
       "2012-01-03  5.788  5.900  5.530  5.616      5.616  4640500\n",
       "2012-01-04  5.642  5.734  5.500  5.542      5.542  3150500\n",
       "2012-01-05  5.552  5.586  5.370  5.424      5.424  5027500\n",
       "2012-01-06  5.440  5.558  5.282  5.382      5.382  4931500\n",
       "2012-01-09  5.400  5.498  5.224  5.450      5.450  4485000"
      ]
     },
     "execution_count": 21,
     "metadata": {},
     "output_type": "execute_result"
    }
   ],
   "source": [
    "df.head()"
   ]
  },
  {
   "cell_type": "code",
   "execution_count": 22,
   "metadata": {
    "execution": {
     "iopub.execute_input": "2021-11-18T01:53:58.807Z",
     "iopub.status.busy": "2021-11-18T01:53:58.795Z",
     "iopub.status.idle": "2021-11-18T01:53:58.825Z",
     "shell.execute_reply": "2021-11-18T01:53:58.932Z"
    },
    "jupyter": {
     "outputs_hidden": false,
     "source_hidden": false
    },
    "nteract": {
     "transient": {
      "deleting": false
     }
    }
   },
   "outputs": [
    {
     "data": {
      "text/html": [
       "<div>\n",
       "<style scoped>\n",
       "    .dataframe tbody tr th:only-of-type {\n",
       "        vertical-align: middle;\n",
       "    }\n",
       "\n",
       "    .dataframe tbody tr th {\n",
       "        vertical-align: top;\n",
       "    }\n",
       "\n",
       "    .dataframe thead th {\n",
       "        text-align: right;\n",
       "    }\n",
       "</style>\n",
       "<table border=\"1\" class=\"dataframe\">\n",
       "  <thead>\n",
       "    <tr style=\"text-align: right;\">\n",
       "      <th></th>\n",
       "      <th>Open</th>\n",
       "      <th>High</th>\n",
       "      <th>Low</th>\n",
       "      <th>Close</th>\n",
       "      <th>Adj Close</th>\n",
       "      <th>Volume</th>\n",
       "    </tr>\n",
       "    <tr>\n",
       "      <th>Date</th>\n",
       "      <th></th>\n",
       "      <th></th>\n",
       "      <th></th>\n",
       "      <th></th>\n",
       "      <th></th>\n",
       "      <th></th>\n",
       "    </tr>\n",
       "  </thead>\n",
       "  <tbody>\n",
       "    <tr>\n",
       "      <th>2022-04-21</th>\n",
       "      <td>1074.729980</td>\n",
       "      <td>1092.219971</td>\n",
       "      <td>996.419983</td>\n",
       "      <td>1008.780029</td>\n",
       "      <td>1008.780029</td>\n",
       "      <td>35138800</td>\n",
       "    </tr>\n",
       "    <tr>\n",
       "      <th>2022-04-22</th>\n",
       "      <td>1014.909973</td>\n",
       "      <td>1034.849976</td>\n",
       "      <td>994.000000</td>\n",
       "      <td>1005.049988</td>\n",
       "      <td>1005.049988</td>\n",
       "      <td>23181600</td>\n",
       "    </tr>\n",
       "    <tr>\n",
       "      <th>2022-04-25</th>\n",
       "      <td>978.969971</td>\n",
       "      <td>1008.619995</td>\n",
       "      <td>975.299988</td>\n",
       "      <td>998.020020</td>\n",
       "      <td>998.020020</td>\n",
       "      <td>22780400</td>\n",
       "    </tr>\n",
       "    <tr>\n",
       "      <th>2022-04-26</th>\n",
       "      <td>995.429993</td>\n",
       "      <td>1000.000000</td>\n",
       "      <td>875.000000</td>\n",
       "      <td>876.419983</td>\n",
       "      <td>876.419983</td>\n",
       "      <td>45377900</td>\n",
       "    </tr>\n",
       "    <tr>\n",
       "      <th>2022-04-27</th>\n",
       "      <td>898.580017</td>\n",
       "      <td>918.000000</td>\n",
       "      <td>877.359985</td>\n",
       "      <td>881.510010</td>\n",
       "      <td>881.510010</td>\n",
       "      <td>25652100</td>\n",
       "    </tr>\n",
       "  </tbody>\n",
       "</table>\n",
       "</div>"
      ],
      "text/plain": [
       "                   Open         High         Low        Close    Adj Close  \\\n",
       "Date                                                                         \n",
       "2022-04-21  1074.729980  1092.219971  996.419983  1008.780029  1008.780029   \n",
       "2022-04-22  1014.909973  1034.849976  994.000000  1005.049988  1005.049988   \n",
       "2022-04-25   978.969971  1008.619995  975.299988   998.020020   998.020020   \n",
       "2022-04-26   995.429993  1000.000000  875.000000   876.419983   876.419983   \n",
       "2022-04-27   898.580017   918.000000  877.359985   881.510010   881.510010   \n",
       "\n",
       "              Volume  \n",
       "Date                  \n",
       "2022-04-21  35138800  \n",
       "2022-04-22  23181600  \n",
       "2022-04-25  22780400  \n",
       "2022-04-26  45377900  \n",
       "2022-04-27  25652100  "
      ]
     },
     "execution_count": 22,
     "metadata": {},
     "output_type": "execute_result"
    }
   ],
   "source": [
    "df.tail()"
   ]
  },
  {
   "cell_type": "code",
   "execution_count": 23,
   "metadata": {
    "execution": {
     "iopub.execute_input": "2021-11-18T01:53:58.844Z",
     "iopub.status.busy": "2021-11-18T01:53:58.835Z",
     "iopub.status.idle": "2021-11-18T01:53:58.858Z",
     "shell.execute_reply": "2021-11-18T01:53:58.935Z"
    },
    "jupyter": {
     "outputs_hidden": false,
     "source_hidden": false
    },
    "nteract": {
     "transient": {
      "deleting": false
     }
    }
   },
   "outputs": [
    {
     "data": {
      "text/html": [
       "<div>\n",
       "<style scoped>\n",
       "    .dataframe tbody tr th:only-of-type {\n",
       "        vertical-align: middle;\n",
       "    }\n",
       "\n",
       "    .dataframe tbody tr th {\n",
       "        vertical-align: top;\n",
       "    }\n",
       "\n",
       "    .dataframe thead th {\n",
       "        text-align: right;\n",
       "    }\n",
       "</style>\n",
       "<table border=\"1\" class=\"dataframe\">\n",
       "  <thead>\n",
       "    <tr style=\"text-align: right;\">\n",
       "      <th></th>\n",
       "      <th>ds</th>\n",
       "      <th>Open</th>\n",
       "      <th>High</th>\n",
       "      <th>Low</th>\n",
       "      <th>y</th>\n",
       "      <th>Adj Close</th>\n",
       "      <th>Volume</th>\n",
       "    </tr>\n",
       "  </thead>\n",
       "  <tbody>\n",
       "    <tr>\n",
       "      <th>0</th>\n",
       "      <td>2012-01-03</td>\n",
       "      <td>5.788000</td>\n",
       "      <td>5.900000</td>\n",
       "      <td>5.530000</td>\n",
       "      <td>5.616000</td>\n",
       "      <td>5.616000</td>\n",
       "      <td>4640500</td>\n",
       "    </tr>\n",
       "    <tr>\n",
       "      <th>1</th>\n",
       "      <td>2012-01-04</td>\n",
       "      <td>5.642000</td>\n",
       "      <td>5.734000</td>\n",
       "      <td>5.500000</td>\n",
       "      <td>5.542000</td>\n",
       "      <td>5.542000</td>\n",
       "      <td>3150500</td>\n",
       "    </tr>\n",
       "    <tr>\n",
       "      <th>2</th>\n",
       "      <td>2012-01-05</td>\n",
       "      <td>5.552000</td>\n",
       "      <td>5.586000</td>\n",
       "      <td>5.370000</td>\n",
       "      <td>5.424000</td>\n",
       "      <td>5.424000</td>\n",
       "      <td>5027500</td>\n",
       "    </tr>\n",
       "    <tr>\n",
       "      <th>3</th>\n",
       "      <td>2012-01-06</td>\n",
       "      <td>5.440000</td>\n",
       "      <td>5.558000</td>\n",
       "      <td>5.282000</td>\n",
       "      <td>5.382000</td>\n",
       "      <td>5.382000</td>\n",
       "      <td>4931500</td>\n",
       "    </tr>\n",
       "    <tr>\n",
       "      <th>4</th>\n",
       "      <td>2012-01-09</td>\n",
       "      <td>5.400000</td>\n",
       "      <td>5.498000</td>\n",
       "      <td>5.224000</td>\n",
       "      <td>5.450000</td>\n",
       "      <td>5.450000</td>\n",
       "      <td>4485000</td>\n",
       "    </tr>\n",
       "    <tr>\n",
       "      <th>...</th>\n",
       "      <td>...</td>\n",
       "      <td>...</td>\n",
       "      <td>...</td>\n",
       "      <td>...</td>\n",
       "      <td>...</td>\n",
       "      <td>...</td>\n",
       "      <td>...</td>\n",
       "    </tr>\n",
       "    <tr>\n",
       "      <th>2592</th>\n",
       "      <td>2022-04-21</td>\n",
       "      <td>1074.729980</td>\n",
       "      <td>1092.219971</td>\n",
       "      <td>996.419983</td>\n",
       "      <td>1008.780029</td>\n",
       "      <td>1008.780029</td>\n",
       "      <td>35138800</td>\n",
       "    </tr>\n",
       "    <tr>\n",
       "      <th>2593</th>\n",
       "      <td>2022-04-22</td>\n",
       "      <td>1014.909973</td>\n",
       "      <td>1034.849976</td>\n",
       "      <td>994.000000</td>\n",
       "      <td>1005.049988</td>\n",
       "      <td>1005.049988</td>\n",
       "      <td>23181600</td>\n",
       "    </tr>\n",
       "    <tr>\n",
       "      <th>2594</th>\n",
       "      <td>2022-04-25</td>\n",
       "      <td>978.969971</td>\n",
       "      <td>1008.619995</td>\n",
       "      <td>975.299988</td>\n",
       "      <td>998.020020</td>\n",
       "      <td>998.020020</td>\n",
       "      <td>22780400</td>\n",
       "    </tr>\n",
       "    <tr>\n",
       "      <th>2595</th>\n",
       "      <td>2022-04-26</td>\n",
       "      <td>995.429993</td>\n",
       "      <td>1000.000000</td>\n",
       "      <td>875.000000</td>\n",
       "      <td>876.419983</td>\n",
       "      <td>876.419983</td>\n",
       "      <td>45377900</td>\n",
       "    </tr>\n",
       "    <tr>\n",
       "      <th>2596</th>\n",
       "      <td>2022-04-27</td>\n",
       "      <td>898.580017</td>\n",
       "      <td>918.000000</td>\n",
       "      <td>877.359985</td>\n",
       "      <td>881.510010</td>\n",
       "      <td>881.510010</td>\n",
       "      <td>25652100</td>\n",
       "    </tr>\n",
       "  </tbody>\n",
       "</table>\n",
       "<p>2597 rows × 7 columns</p>\n",
       "</div>"
      ],
      "text/plain": [
       "             ds         Open         High         Low            y  \\\n",
       "0    2012-01-03     5.788000     5.900000    5.530000     5.616000   \n",
       "1    2012-01-04     5.642000     5.734000    5.500000     5.542000   \n",
       "2    2012-01-05     5.552000     5.586000    5.370000     5.424000   \n",
       "3    2012-01-06     5.440000     5.558000    5.282000     5.382000   \n",
       "4    2012-01-09     5.400000     5.498000    5.224000     5.450000   \n",
       "...         ...          ...          ...         ...          ...   \n",
       "2592 2022-04-21  1074.729980  1092.219971  996.419983  1008.780029   \n",
       "2593 2022-04-22  1014.909973  1034.849976  994.000000  1005.049988   \n",
       "2594 2022-04-25   978.969971  1008.619995  975.299988   998.020020   \n",
       "2595 2022-04-26   995.429993  1000.000000  875.000000   876.419983   \n",
       "2596 2022-04-27   898.580017   918.000000  877.359985   881.510010   \n",
       "\n",
       "        Adj Close    Volume  \n",
       "0        5.616000   4640500  \n",
       "1        5.542000   3150500  \n",
       "2        5.424000   5027500  \n",
       "3        5.382000   4931500  \n",
       "4        5.450000   4485000  \n",
       "...           ...       ...  \n",
       "2592  1008.780029  35138800  \n",
       "2593  1005.049988  23181600  \n",
       "2594   998.020020  22780400  \n",
       "2595   876.419983  45377900  \n",
       "2596   881.510010  25652100  \n",
       "\n",
       "[2597 rows x 7 columns]"
      ]
     },
     "execution_count": 23,
     "metadata": {},
     "output_type": "execute_result"
    }
   ],
   "source": [
    "df = df.reset_index()\n",
    "df = df.rename(columns={'Date': 'ds', 'Close': 'y'})\n",
    "df"
   ]
  },
  {
   "cell_type": "code",
   "execution_count": 24,
   "metadata": {
    "execution": {
     "iopub.execute_input": "2021-11-18T01:53:58.869Z",
     "iopub.status.busy": "2021-11-18T01:53:58.865Z",
     "iopub.status.idle": "2021-11-18T01:53:58.885Z",
     "shell.execute_reply": "2021-11-18T01:53:58.938Z"
    },
    "jupyter": {
     "outputs_hidden": false,
     "source_hidden": false
    },
    "nteract": {
     "transient": {
      "deleting": false
     }
    }
   },
   "outputs": [
    {
     "data": {
      "text/html": [
       "<div>\n",
       "<style scoped>\n",
       "    .dataframe tbody tr th:only-of-type {\n",
       "        vertical-align: middle;\n",
       "    }\n",
       "\n",
       "    .dataframe tbody tr th {\n",
       "        vertical-align: top;\n",
       "    }\n",
       "\n",
       "    .dataframe thead th {\n",
       "        text-align: right;\n",
       "    }\n",
       "</style>\n",
       "<table border=\"1\" class=\"dataframe\">\n",
       "  <thead>\n",
       "    <tr style=\"text-align: right;\">\n",
       "      <th></th>\n",
       "      <th>ds</th>\n",
       "      <th>y</th>\n",
       "    </tr>\n",
       "  </thead>\n",
       "  <tbody>\n",
       "    <tr>\n",
       "      <th>0</th>\n",
       "      <td>2012-01-03</td>\n",
       "      <td>5.616</td>\n",
       "    </tr>\n",
       "    <tr>\n",
       "      <th>1</th>\n",
       "      <td>2012-01-04</td>\n",
       "      <td>5.542</td>\n",
       "    </tr>\n",
       "    <tr>\n",
       "      <th>2</th>\n",
       "      <td>2012-01-05</td>\n",
       "      <td>5.424</td>\n",
       "    </tr>\n",
       "    <tr>\n",
       "      <th>3</th>\n",
       "      <td>2012-01-06</td>\n",
       "      <td>5.382</td>\n",
       "    </tr>\n",
       "    <tr>\n",
       "      <th>4</th>\n",
       "      <td>2012-01-09</td>\n",
       "      <td>5.450</td>\n",
       "    </tr>\n",
       "  </tbody>\n",
       "</table>\n",
       "</div>"
      ],
      "text/plain": [
       "          ds      y\n",
       "0 2012-01-03  5.616\n",
       "1 2012-01-04  5.542\n",
       "2 2012-01-05  5.424\n",
       "3 2012-01-06  5.382\n",
       "4 2012-01-09  5.450"
      ]
     },
     "execution_count": 24,
     "metadata": {},
     "output_type": "execute_result"
    }
   ],
   "source": [
    "df = df[['ds', 'y']]\n",
    "df.head()"
   ]
  },
  {
   "cell_type": "code",
   "execution_count": 25,
   "metadata": {
    "execution": {
     "iopub.execute_input": "2021-11-18T01:53:58.900Z",
     "iopub.status.busy": "2021-11-18T01:53:58.894Z",
     "iopub.status.idle": "2021-11-18T01:54:03.805Z",
     "shell.execute_reply": "2021-11-18T01:54:03.882Z"
    },
    "jupyter": {
     "outputs_hidden": false,
     "source_hidden": false
    },
    "nteract": {
     "transient": {
      "deleting": false
     }
    }
   },
   "outputs": [
    {
     "data": {
      "text/plain": [
       "<prophet.forecaster.Prophet at 0x7fa86870fd00>"
      ]
     },
     "execution_count": 25,
     "metadata": {},
     "output_type": "execute_result"
    },
    {
     "name": "stdout",
     "output_type": "stream",
     "text": [
      "Initial log joint probability = -104.474\n",
      "    Iter      log prob        ||dx||      ||grad||       alpha      alpha0  # evals  Notes \n",
      "      99       6711.38    0.00803041       606.943           1           1      125   \n",
      "    Iter      log prob        ||dx||      ||grad||       alpha      alpha0  # evals  Notes \n",
      "     199       6755.14    0.00375184        642.12           1           1      235   \n",
      "    Iter      log prob        ||dx||      ||grad||       alpha      alpha0  # evals  Notes \n",
      "     299       6764.86   0.000904162       199.683           1           1      352   \n",
      "    Iter      log prob        ||dx||      ||grad||       alpha      alpha0  # evals  Notes \n",
      "     399       6775.86    0.00121629       144.026           1           1      481   \n",
      "    Iter      log prob        ||dx||      ||grad||       alpha      alpha0  # evals  Notes \n",
      "     477       6778.08   0.000376559       258.524   5.848e-06       0.001      612  LS failed, Hessian reset \n",
      "     499       6778.36     0.0158559        163.27           1           1      643   \n",
      "    Iter      log prob        ||dx||      ||grad||       alpha      alpha0  # evals  Notes \n",
      "     523       6778.84   3.55497e-05       156.218   1.408e-07       0.001      730  LS failed, Hessian reset \n",
      "     599       6779.94    0.00886615       197.721           1           1      825   \n",
      "    Iter      log prob        ||dx||      ||grad||       alpha      alpha0  # evals  Notes \n",
      "     699       6784.41    0.00113662       493.784           1           1      942   \n",
      "    Iter      log prob        ||dx||      ||grad||       alpha      alpha0  # evals  Notes \n",
      "     799       6785.63   0.000219826       77.2502      0.3421           1     1068   \n",
      "    Iter      log prob        ||dx||      ||grad||       alpha      alpha0  # evals  Notes \n",
      "     899       6786.63   0.000186609       108.531           1           1     1191   \n",
      "    Iter      log prob        ||dx||      ||grad||       alpha      alpha0  # evals  Notes \n",
      "     999        6790.2     0.0011241       279.793      0.5177      0.5177     1316   \n",
      "    Iter      log prob        ||dx||      ||grad||       alpha      alpha0  # evals  Notes \n",
      "    1099       6794.44    0.00313676       337.496      0.4717           1     1430   \n",
      "    Iter      log prob        ||dx||      ||grad||       alpha      alpha0  # evals  Notes \n",
      "    1165       6795.73   3.85829e-05       162.803     1.3e-07       0.001     1560  LS failed, Hessian reset \n",
      "    1199       6796.58   0.000119609       56.7856      0.4559      0.4559     1609   \n",
      "    Iter      log prob        ||dx||      ||grad||       alpha      alpha0  # evals  Notes \n",
      "    1268       6796.99   4.58862e-05       159.707   5.745e-07       0.001     1734  LS failed, Hessian reset \n",
      "    1299       6797.01   1.19724e-06       64.2831           1           1     1780   \n",
      "    Iter      log prob        ||dx||      ||grad||       alpha      alpha0  # evals  Notes \n",
      "    1365       6797.11   4.46217e-07       66.0026      0.4612      0.4612     1869   \n",
      "Optimization terminated normally: \n",
      "  Convergence detected: relative gradient magnitude is below tolerance\n"
     ]
    }
   ],
   "source": [
    "m = Prophet(daily_seasonality=True)\n",
    "m.fit(df)"
   ]
  },
  {
   "cell_type": "code",
   "execution_count": 26,
   "metadata": {
    "execution": {
     "iopub.execute_input": "2021-11-18T01:54:03.820Z",
     "iopub.status.busy": "2021-11-18T01:54:03.814Z",
     "iopub.status.idle": "2021-11-18T01:54:03.831Z",
     "shell.execute_reply": "2021-11-18T01:54:03.886Z"
    },
    "jupyter": {
     "outputs_hidden": false,
     "source_hidden": false
    },
    "nteract": {
     "transient": {
      "deleting": false
     }
    }
   },
   "outputs": [
    {
     "data": {
      "text/html": [
       "<div>\n",
       "<style scoped>\n",
       "    .dataframe tbody tr th:only-of-type {\n",
       "        vertical-align: middle;\n",
       "    }\n",
       "\n",
       "    .dataframe tbody tr th {\n",
       "        vertical-align: top;\n",
       "    }\n",
       "\n",
       "    .dataframe thead th {\n",
       "        text-align: right;\n",
       "    }\n",
       "</style>\n",
       "<table border=\"1\" class=\"dataframe\">\n",
       "  <thead>\n",
       "    <tr style=\"text-align: right;\">\n",
       "      <th></th>\n",
       "      <th>ds</th>\n",
       "    </tr>\n",
       "  </thead>\n",
       "  <tbody>\n",
       "    <tr>\n",
       "      <th>2957</th>\n",
       "      <td>2023-04-23</td>\n",
       "    </tr>\n",
       "    <tr>\n",
       "      <th>2958</th>\n",
       "      <td>2023-04-24</td>\n",
       "    </tr>\n",
       "    <tr>\n",
       "      <th>2959</th>\n",
       "      <td>2023-04-25</td>\n",
       "    </tr>\n",
       "    <tr>\n",
       "      <th>2960</th>\n",
       "      <td>2023-04-26</td>\n",
       "    </tr>\n",
       "    <tr>\n",
       "      <th>2961</th>\n",
       "      <td>2023-04-27</td>\n",
       "    </tr>\n",
       "  </tbody>\n",
       "</table>\n",
       "</div>"
      ],
      "text/plain": [
       "             ds\n",
       "2957 2023-04-23\n",
       "2958 2023-04-24\n",
       "2959 2023-04-25\n",
       "2960 2023-04-26\n",
       "2961 2023-04-27"
      ]
     },
     "execution_count": 26,
     "metadata": {},
     "output_type": "execute_result"
    }
   ],
   "source": [
    "future = m.make_future_dataframe(periods=365)\n",
    "future.tail()"
   ]
  },
  {
   "cell_type": "code",
   "execution_count": 27,
   "metadata": {
    "execution": {
     "iopub.execute_input": "2021-11-18T01:54:03.847Z",
     "iopub.status.busy": "2021-11-18T01:54:03.839Z",
     "iopub.status.idle": "2021-11-18T01:54:03.857Z",
     "shell.execute_reply": "2021-11-18T01:54:03.889Z"
    },
    "jupyter": {
     "outputs_hidden": false,
     "source_hidden": false
    },
    "nteract": {
     "transient": {
      "deleting": false
     }
    }
   },
   "outputs": [],
   "source": [
    "future = list()\n",
    "for i in range(1, 13):\n",
    "\tdate = '2022-%02d' % i\n",
    "\tfuture.append([date])\n",
    "future = pd.DataFrame(future)\n",
    "future.columns = ['ds']\n",
    "future['ds']= pd.to_datetime(future['ds'])"
   ]
  },
  {
   "cell_type": "code",
   "execution_count": 28,
   "metadata": {
    "execution": {
     "iopub.execute_input": "2021-11-18T01:54:03.869Z",
     "iopub.status.busy": "2021-11-18T01:54:03.863Z",
     "iopub.status.idle": "2021-11-18T01:54:04.831Z",
     "shell.execute_reply": "2021-11-18T01:54:04.855Z"
    },
    "jupyter": {
     "outputs_hidden": false,
     "source_hidden": false
    },
    "nteract": {
     "transient": {
      "deleting": false
     }
    }
   },
   "outputs": [
    {
     "data": {
      "text/html": [
       "<div>\n",
       "<style scoped>\n",
       "    .dataframe tbody tr th:only-of-type {\n",
       "        vertical-align: middle;\n",
       "    }\n",
       "\n",
       "    .dataframe tbody tr th {\n",
       "        vertical-align: top;\n",
       "    }\n",
       "\n",
       "    .dataframe thead th {\n",
       "        text-align: right;\n",
       "    }\n",
       "</style>\n",
       "<table border=\"1\" class=\"dataframe\">\n",
       "  <thead>\n",
       "    <tr style=\"text-align: right;\">\n",
       "      <th></th>\n",
       "      <th>ds</th>\n",
       "      <th>yhat</th>\n",
       "      <th>yhat_lower</th>\n",
       "      <th>yhat_upper</th>\n",
       "    </tr>\n",
       "  </thead>\n",
       "  <tbody>\n",
       "    <tr>\n",
       "      <th>7</th>\n",
       "      <td>2022-08-01</td>\n",
       "      <td>1189.071857</td>\n",
       "      <td>1120.024153</td>\n",
       "      <td>1258.301581</td>\n",
       "    </tr>\n",
       "    <tr>\n",
       "      <th>8</th>\n",
       "      <td>2022-09-01</td>\n",
       "      <td>1233.688252</td>\n",
       "      <td>1164.166242</td>\n",
       "      <td>1303.151023</td>\n",
       "    </tr>\n",
       "    <tr>\n",
       "      <th>9</th>\n",
       "      <td>2022-10-01</td>\n",
       "      <td>1265.792620</td>\n",
       "      <td>1200.865586</td>\n",
       "      <td>1330.011622</td>\n",
       "    </tr>\n",
       "    <tr>\n",
       "      <th>10</th>\n",
       "      <td>2022-11-01</td>\n",
       "      <td>1327.837747</td>\n",
       "      <td>1259.986052</td>\n",
       "      <td>1394.233609</td>\n",
       "    </tr>\n",
       "    <tr>\n",
       "      <th>11</th>\n",
       "      <td>2022-12-01</td>\n",
       "      <td>1368.544547</td>\n",
       "      <td>1304.164570</td>\n",
       "      <td>1436.242199</td>\n",
       "    </tr>\n",
       "  </tbody>\n",
       "</table>\n",
       "</div>"
      ],
      "text/plain": [
       "           ds         yhat   yhat_lower   yhat_upper\n",
       "7  2022-08-01  1189.071857  1120.024153  1258.301581\n",
       "8  2022-09-01  1233.688252  1164.166242  1303.151023\n",
       "9  2022-10-01  1265.792620  1200.865586  1330.011622\n",
       "10 2022-11-01  1327.837747  1259.986052  1394.233609\n",
       "11 2022-12-01  1368.544547  1304.164570  1436.242199"
      ]
     },
     "execution_count": 28,
     "metadata": {},
     "output_type": "execute_result"
    }
   ],
   "source": [
    "forecast = m.predict(future)\n",
    "forecast[['ds', 'yhat', 'yhat_lower', 'yhat_upper']].tail()"
   ]
  },
  {
   "cell_type": "code",
   "execution_count": 29,
   "metadata": {
    "execution": {
     "iopub.execute_input": "2021-11-18T01:54:04.847Z",
     "iopub.status.busy": "2021-11-18T01:54:04.840Z",
     "iopub.status.idle": "2021-11-18T01:54:05.106Z",
     "shell.execute_reply": "2021-11-18T01:54:05.142Z"
    },
    "jupyter": {
     "outputs_hidden": false,
     "source_hidden": false
    },
    "nteract": {
     "transient": {
      "deleting": false
     }
    }
   },
   "outputs": [
    {
     "data": {
      "image/png": "[encoded data removed]",
      "text/plain": [
       "<Figure size 720x432 with 1 Axes>"
      ]
     },
     "execution_count": 29,
     "metadata": {},
     "output_type": "execute_result"
    },
    {
     "data": {
      "image/png": "[encoded data removed]",
      "text/plain": [
       "<Figure size 720x432 with 1 Axes>"
      ]
     },
     "metadata": {},
     "output_type": "display_data"
    }
   ],
   "source": [
    "m.plot(forecast)\n"
   ]
  },
  {
   "cell_type": "code",
   "execution_count": 30,
   "metadata": {
    "execution": {
     "iopub.execute_input": "2021-11-18T01:54:05.118Z",
     "iopub.status.busy": "2021-11-18T01:54:05.114Z",
     "iopub.status.idle": "2021-11-18T01:54:05.127Z",
     "shell.execute_reply": "2021-11-18T01:54:05.145Z"
    },
    "jupyter": {
     "outputs_hidden": false,
     "source_hidden": false
    },
    "nteract": {
     "transient": {
      "deleting": false
     }
    }
   },
   "outputs": [
    {
     "name": "stdout",
     "output_type": "stream",
     "text": [
      "             ds            y\n",
      "2580 2022-04-04  1145.449951\n",
      "2581 2022-04-05  1091.260010\n",
      "2582 2022-04-06  1045.760010\n",
      "2583 2022-04-07  1057.260010\n",
      "2584 2022-04-08  1025.489990\n"
     ]
    }
   ],
   "source": [
    "train = df.drop(df.index[-12:])\n",
    "print(train.tail())"
   ]
  },
  {
   "cell_type": "code",
   "execution_count": 31,
   "metadata": {
    "execution": {
     "iopub.execute_input": "2021-11-18T01:54:05.137Z",
     "iopub.status.busy": "2021-11-18T01:54:05.133Z",
     "iopub.status.idle": "2021-11-18T01:54:05.304Z",
     "shell.execute_reply": "2021-11-18T01:54:05.323Z"
    },
    "jupyter": {
     "outputs_hidden": false,
     "source_hidden": false
    },
    "nteract": {
     "transient": {
      "deleting": false
     }
    }
   },
   "outputs": [
    {
     "name": "stdout",
     "output_type": "stream",
     "text": [
      "MAE: 171.145\n"
     ]
    }
   ],
   "source": [
    "from sklearn.metrics import mean_absolute_error\n",
    "\n",
    "y_true = df['y'][-12:].values\n",
    "y_pred = forecast['yhat'].values\n",
    "mae = mean_absolute_error(y_true, y_pred)\n",
    "print('MAE: %.3f' % mae)"
   ]
  },
  {
   "cell_type": "code",
   "execution_count": 32,
   "metadata": {
    "execution": {
     "iopub.execute_input": "2021-11-18T01:54:05.314Z",
     "iopub.status.busy": "2021-11-18T01:54:05.310Z",
     "iopub.status.idle": "2021-11-18T01:54:05.397Z",
     "shell.execute_reply": "2021-11-18T01:54:05.404Z"
    },
    "jupyter": {
     "outputs_hidden": false,
     "source_hidden": false
    },
    "nteract": {
     "transient": {
      "deleting": false
     }
    }
   },
   "outputs": [
    {
     "data": {
      "image/png": "[encoded data removed]",
      "text/plain": [
       "<Figure size 432x288 with 1 Axes>"
      ]
     },
     "metadata": {
      "needs_background": "light"
     },
     "output_type": "display_data"
    }
   ],
   "source": [
    "plt.plot(y_true, label='Actual')\n",
    "plt.plot(y_pred, label='Predicted')\n",
    "plt.legend()\n",
    "plt.show()"
   ]
  },
  {
   "cell_type": "code",
   "execution_count": null,
   "metadata": {},
   "outputs": [],
   "source": []
  }
 ],
 "metadata": {
  "kernel_info": {
   "name": "python3"
  },
  "kernelspec": {
   "display_name": "Python 3 (ipykernel)",
   "language": "python",
   "name": "python3"
  },
  "language_info": {
   "codemirror_mode": {
    "name": "ipython",
    "version": 3
   },
   "file_extension": ".py",
   "mimetype": "text/x-python",
   "name": "python",
   "nbconvert_exporter": "python",
   "pygments_lexer": "ipython3",
   "version": "3.9.7"
  },
  "nteract": {
   "version": "0.28.0"
  }
 },
 "nbformat": 4,
 "nbformat_minor": 1
}
