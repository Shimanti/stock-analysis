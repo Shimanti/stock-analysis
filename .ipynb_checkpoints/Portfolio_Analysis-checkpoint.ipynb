{
 "cells": [
  {
   "cell_type": "markdown",
   "metadata": {},
   "source": [
    "# Portfolio Analysis"
   ]
  },
  {
   "cell_type": "code",
   "execution_count": 3,
   "metadata": {
    "inputHidden": false,
    "outputHidden": false
   },
   "outputs": [],
   "source": [
    "import numpy as np\n",
    "import pandas as pd\n",
    "import matplotlib.pyplot as plt\n",
    "import math\n",
    "\n",
    "import warnings\n",
    "warnings.filterwarnings(\"ignore\")\n",
    "\n",
    "# fix_yahoo_finance is used to fetch data \n",
    "import yfinance as yf\n",
    "yf.pdr_override()"
   ]
  },
  {
   "cell_type": "code",
   "execution_count": 31,
   "metadata": {
    "inputHidden": false,
    "outputHidden": false
   },
   "outputs": [
    {
     "name": "stdout",
     "output_type": "stream",
     "text": [
      "[*********************100%***********************]  8 of 8 completed\n"
     ]
    },
    {
     "data": {
      "text/html": [
       "<div>\n",
       "<style scoped>\n",
       "    .dataframe tbody tr th:only-of-type {\n",
       "        vertical-align: middle;\n",
       "    }\n",
       "\n",
       "    .dataframe tbody tr th {\n",
       "        vertical-align: top;\n",
       "    }\n",
       "\n",
       "    .dataframe thead th {\n",
       "        text-align: right;\n",
       "    }\n",
       "</style>\n",
       "<table border=\"1\" class=\"dataframe\">\n",
       "  <thead>\n",
       "    <tr style=\"text-align: right;\">\n",
       "      <th></th>\n",
       "      <th>AAPL</th>\n",
       "      <th>AMZN</th>\n",
       "      <th>FB</th>\n",
       "      <th>GOOG</th>\n",
       "      <th>MSFT</th>\n",
       "      <th>NFLX</th>\n",
       "      <th>NVDA</th>\n",
       "      <th>TSLA</th>\n",
       "    </tr>\n",
       "    <tr>\n",
       "      <th>Date</th>\n",
       "      <th></th>\n",
       "      <th></th>\n",
       "      <th></th>\n",
       "      <th></th>\n",
       "      <th></th>\n",
       "      <th></th>\n",
       "      <th></th>\n",
       "      <th></th>\n",
       "    </tr>\n",
       "  </thead>\n",
       "  <tbody>\n",
       "    <tr>\n",
       "      <th>2012-01-03</th>\n",
       "      <td>12.575917</td>\n",
       "      <td>179.029999</td>\n",
       "      <td>NaN</td>\n",
       "      <td>331.462585</td>\n",
       "      <td>21.623138</td>\n",
       "      <td>10.320000</td>\n",
       "      <td>3.223773</td>\n",
       "      <td>5.616</td>\n",
       "    </tr>\n",
       "    <tr>\n",
       "      <th>2012-01-04</th>\n",
       "      <td>12.643500</td>\n",
       "      <td>177.509995</td>\n",
       "      <td>NaN</td>\n",
       "      <td>332.892242</td>\n",
       "      <td>22.132010</td>\n",
       "      <td>11.492857</td>\n",
       "      <td>3.260511</td>\n",
       "      <td>5.542</td>\n",
       "    </tr>\n",
       "    <tr>\n",
       "      <th>2012-01-05</th>\n",
       "      <td>12.783868</td>\n",
       "      <td>177.610001</td>\n",
       "      <td>NaN</td>\n",
       "      <td>328.274536</td>\n",
       "      <td>22.358171</td>\n",
       "      <td>11.328571</td>\n",
       "      <td>3.377616</td>\n",
       "      <td>5.424</td>\n",
       "    </tr>\n",
       "    <tr>\n",
       "      <th>2012-01-06</th>\n",
       "      <td>12.917508</td>\n",
       "      <td>182.610001</td>\n",
       "      <td>NaN</td>\n",
       "      <td>323.796326</td>\n",
       "      <td>22.705507</td>\n",
       "      <td>12.327143</td>\n",
       "      <td>3.338580</td>\n",
       "      <td>5.382</td>\n",
       "    </tr>\n",
       "    <tr>\n",
       "      <th>2012-01-09</th>\n",
       "      <td>12.897019</td>\n",
       "      <td>178.559998</td>\n",
       "      <td>NaN</td>\n",
       "      <td>310.067780</td>\n",
       "      <td>22.406643</td>\n",
       "      <td>14.025714</td>\n",
       "      <td>3.338580</td>\n",
       "      <td>5.450</td>\n",
       "    </tr>\n",
       "  </tbody>\n",
       "</table>\n",
       "</div>"
      ],
      "text/plain": [
       "                 AAPL        AMZN  FB        GOOG       MSFT       NFLX  \\\n",
       "Date                                                                      \n",
       "2012-01-03  12.575917  179.029999 NaN  331.462585  21.623138  10.320000   \n",
       "2012-01-04  12.643500  177.509995 NaN  332.892242  22.132010  11.492857   \n",
       "2012-01-05  12.783868  177.610001 NaN  328.274536  22.358171  11.328571   \n",
       "2012-01-06  12.917508  182.610001 NaN  323.796326  22.705507  12.327143   \n",
       "2012-01-09  12.897019  178.559998 NaN  310.067780  22.406643  14.025714   \n",
       "\n",
       "                NVDA   TSLA  \n",
       "Date                         \n",
       "2012-01-03  3.223773  5.616  \n",
       "2012-01-04  3.260511  5.542  \n",
       "2012-01-05  3.377616  5.424  \n",
       "2012-01-06  3.338580  5.382  \n",
       "2012-01-09  3.338580  5.450  "
      ]
     },
     "execution_count": 31,
     "metadata": {},
     "output_type": "execute_result"
    }
   ],
   "source": [
    "# input\n",
    "symbols = ['FB','AAPL','AMZN','TSLA','MSFT','GOOG','NFLX','NVDA']\n",
    "start = '2012-01-01'\n",
    "end = '2022-04-28'\n",
    "\n",
    "# Read data \n",
    "dataset = yf.download(symbols,start,end)['Adj Close']\n",
    "\n",
    "# View Columns\n",
    "dataset.head()"
   ]
  },
  {
   "cell_type": "code",
   "execution_count": 32,
   "metadata": {
    "inputHidden": false,
    "outputHidden": false
   },
   "outputs": [],
   "source": [
    "# Calculate Daily Returns\n",
    "returns = dataset.pct_change()"
   ]
  },
  {
   "cell_type": "code",
   "execution_count": 33,
   "metadata": {
    "inputHidden": false,
    "outputHidden": false
   },
   "outputs": [],
   "source": [
    "returns = returns.dropna()"
   ]
  },
  {
   "cell_type": "code",
   "execution_count": 34,
   "metadata": {
    "inputHidden": false,
    "outputHidden": false
   },
   "outputs": [
    {
     "data": {
      "text/html": [
       "<div>\n",
       "<style scoped>\n",
       "    .dataframe tbody tr th:only-of-type {\n",
       "        vertical-align: middle;\n",
       "    }\n",
       "\n",
       "    .dataframe tbody tr th {\n",
       "        vertical-align: top;\n",
       "    }\n",
       "\n",
       "    .dataframe thead th {\n",
       "        text-align: right;\n",
       "    }\n",
       "</style>\n",
       "<table border=\"1\" class=\"dataframe\">\n",
       "  <thead>\n",
       "    <tr style=\"text-align: right;\">\n",
       "      <th></th>\n",
       "      <th>AAPL</th>\n",
       "      <th>AMZN</th>\n",
       "      <th>FB</th>\n",
       "      <th>GOOG</th>\n",
       "      <th>MSFT</th>\n",
       "      <th>NFLX</th>\n",
       "      <th>NVDA</th>\n",
       "      <th>TSLA</th>\n",
       "    </tr>\n",
       "    <tr>\n",
       "      <th>Date</th>\n",
       "      <th></th>\n",
       "      <th></th>\n",
       "      <th></th>\n",
       "      <th></th>\n",
       "      <th></th>\n",
       "      <th></th>\n",
       "      <th></th>\n",
       "      <th></th>\n",
       "    </tr>\n",
       "  </thead>\n",
       "  <tbody>\n",
       "    <tr>\n",
       "      <th>2012-05-21</th>\n",
       "      <td>0.058261</td>\n",
       "      <td>0.019920</td>\n",
       "      <td>-0.109861</td>\n",
       "      <td>0.022835</td>\n",
       "      <td>0.016399</td>\n",
       "      <td>0.025443</td>\n",
       "      <td>0.017384</td>\n",
       "      <td>0.043904</td>\n",
       "    </tr>\n",
       "    <tr>\n",
       "      <th>2012-05-22</th>\n",
       "      <td>-0.007679</td>\n",
       "      <td>-0.012746</td>\n",
       "      <td>-0.089039</td>\n",
       "      <td>-0.021674</td>\n",
       "      <td>0.000336</td>\n",
       "      <td>-0.056175</td>\n",
       "      <td>-0.012205</td>\n",
       "      <td>0.070560</td>\n",
       "    </tr>\n",
       "    <tr>\n",
       "      <th>2012-05-23</th>\n",
       "      <td>0.024400</td>\n",
       "      <td>0.009056</td>\n",
       "      <td>0.032258</td>\n",
       "      <td>0.014414</td>\n",
       "      <td>-0.021841</td>\n",
       "      <td>0.062029</td>\n",
       "      <td>0.024712</td>\n",
       "      <td>0.007143</td>\n",
       "    </tr>\n",
       "    <tr>\n",
       "      <th>2012-05-24</th>\n",
       "      <td>-0.009184</td>\n",
       "      <td>-0.009389</td>\n",
       "      <td>0.032187</td>\n",
       "      <td>-0.009517</td>\n",
       "      <td>-0.001374</td>\n",
       "      <td>-0.022806</td>\n",
       "      <td>-0.026528</td>\n",
       "      <td>-0.023856</td>\n",
       "    </tr>\n",
       "    <tr>\n",
       "      <th>2012-05-25</th>\n",
       "      <td>-0.005359</td>\n",
       "      <td>-0.010918</td>\n",
       "      <td>-0.033909</td>\n",
       "      <td>-0.020094</td>\n",
       "      <td>-0.000344</td>\n",
       "      <td>-0.000711</td>\n",
       "      <td>0.023947</td>\n",
       "      <td>-0.015522</td>\n",
       "    </tr>\n",
       "  </tbody>\n",
       "</table>\n",
       "</div>"
      ],
      "text/plain": [
       "                AAPL      AMZN        FB      GOOG      MSFT      NFLX  \\\n",
       "Date                                                                     \n",
       "2012-05-21  0.058261  0.019920 -0.109861  0.022835  0.016399  0.025443   \n",
       "2012-05-22 -0.007679 -0.012746 -0.089039 -0.021674  0.000336 -0.056175   \n",
       "2012-05-23  0.024400  0.009056  0.032258  0.014414 -0.021841  0.062029   \n",
       "2012-05-24 -0.009184 -0.009389  0.032187 -0.009517 -0.001374 -0.022806   \n",
       "2012-05-25 -0.005359 -0.010918 -0.033909 -0.020094 -0.000344 -0.000711   \n",
       "\n",
       "                NVDA      TSLA  \n",
       "Date                            \n",
       "2012-05-21  0.017384  0.043904  \n",
       "2012-05-22 -0.012205  0.070560  \n",
       "2012-05-23  0.024712  0.007143  \n",
       "2012-05-24 -0.026528 -0.023856  \n",
       "2012-05-25  0.023947 -0.015522  "
      ]
     },
     "execution_count": 34,
     "metadata": {},
     "output_type": "execute_result"
    }
   ],
   "source": [
    "returns.head()"
   ]
  },
  {
   "cell_type": "code",
   "execution_count": 100,
   "metadata": {
    "inputHidden": false,
    "outputHidden": false
   },
   "outputs": [
    {
     "name": "stdout",
     "output_type": "stream",
     "text": [
      "AAPL         0.001066\n",
      "AMZN         0.001207\n",
      "FB           0.000894\n",
      "GOOG         0.000946\n",
      "MSFT         0.001122\n",
      "NFLX         0.001639\n",
      "NVDA         0.002028\n",
      "TSLA         0.002649\n",
      "Portfolio    0.001444\n",
      "dtype: float64\n"
     ]
    }
   ],
   "source": [
    "# Calculate mean returns\n",
    "meanDailyReturns = returns.mean()\n",
    "print(meanDailyReturns)"
   ]
  },
  {
   "cell_type": "code",
   "execution_count": 36,
   "metadata": {
    "inputHidden": false,
    "outputHidden": false
   },
   "outputs": [
    {
     "name": "stdout",
     "output_type": "stream",
     "text": [
      "AAPL    0.017841\n",
      "AMZN    0.019210\n",
      "FB      0.023884\n",
      "GOOG    0.016160\n",
      "MSFT    0.016366\n",
      "NFLX    0.030504\n",
      "NVDA    0.026520\n",
      "TSLA    0.035301\n",
      "dtype: float64\n"
     ]
    }
   ],
   "source": [
    "# Calculate std returns\n",
    "stdDailyReturns = returns.std()\n",
    "print(stdDailyReturns)"
   ]
  },
  {
   "cell_type": "code",
   "execution_count": 114,
   "metadata": {
    "inputHidden": false,
    "outputHidden": false
   },
   "outputs": [],
   "source": [
    "# Define weights for the portfolio\n",
    "weights = np.array([0.125, 0.125, 0.125,0.125, 0.125,0.125, 0.125, 0.125,0])"
   ]
  },
  {
   "cell_type": "code",
   "execution_count": 116,
   "metadata": {
    "inputHidden": false,
    "outputHidden": false
   },
   "outputs": [
    {
     "name": "stdout",
     "output_type": "stream",
     "text": [
      "               AAPL      AMZN        FB      GOOG      MSFT      NFLX  \\\n",
      "AAPL       0.079577  0.039915  0.043259  0.038295  0.042723  0.036839   \n",
      "AMZN       0.039915  0.092256  0.053773  0.046565  0.044325  0.064650   \n",
      "FB         0.043259  0.053773  0.142613  0.049439  0.042491  0.057948   \n",
      "GOOG       0.038295  0.046565  0.049439  0.065288  0.043623  0.048752   \n",
      "MSFT       0.042723  0.044325  0.042491  0.043623  0.066963  0.044526   \n",
      "NFLX       0.036839  0.064650  0.057948  0.048752  0.044526  0.232629   \n",
      "NVDA       0.058327  0.058191  0.062088  0.053978  0.061284  0.067751   \n",
      "TSLA       0.053212  0.057767  0.056825  0.047463  0.051236  0.077048   \n",
      "Portfolio  0.049018  0.057180  0.063554  0.049175  0.049646  0.078768   \n",
      "\n",
      "               NVDA      TSLA  Portfolio  \n",
      "AAPL       0.058327  0.053212   0.049018  \n",
      "AMZN       0.058191  0.057767   0.057180  \n",
      "FB         0.062088  0.056825   0.063554  \n",
      "GOOG       0.053978  0.047463   0.049175  \n",
      "MSFT       0.061284  0.051236   0.049646  \n",
      "NFLX       0.067751  0.077048   0.078768  \n",
      "NVDA       0.175827  0.081709   0.077394  \n",
      "TSLA       0.081709  0.311544   0.092100  \n",
      "Portfolio  0.077394  0.092100   0.064605  \n"
     ]
    }
   ],
   "source": [
    "# Calculate the covariance matrix on daily returns\n",
    "cov_matrix = (returns.cov())*250\n",
    "print (cov_matrix)"
   ]
  },
  {
   "cell_type": "code",
   "execution_count": 117,
   "metadata": {
    "inputHidden": false,
    "outputHidden": false
   },
   "outputs": [],
   "source": [
    "# Calculate expected portfolio performance\n",
    "portReturn = np.sum(meanDailyReturns*weights)"
   ]
  },
  {
   "cell_type": "code",
   "execution_count": 118,
   "metadata": {
    "inputHidden": false,
    "outputHidden": false
   },
   "outputs": [
    {
     "name": "stdout",
     "output_type": "stream",
     "text": [
      "0.0014439057495694767\n"
     ]
    }
   ],
   "source": [
    "# Print the portfolio return\n",
    "print(portReturn)"
   ]
  },
  {
   "cell_type": "code",
   "execution_count": 119,
   "metadata": {
    "inputHidden": false,
    "outputHidden": false
   },
   "outputs": [],
   "source": [
    "# Create portfolio returns column\n",
    "returns['Portfolio'] = returns.dot(weights)"
   ]
  },
  {
   "cell_type": "code",
   "execution_count": 120,
   "metadata": {
    "inputHidden": false,
    "outputHidden": false
   },
   "outputs": [
    {
     "data": {
      "text/html": [
       "<div>\n",
       "<style scoped>\n",
       "    .dataframe tbody tr th:only-of-type {\n",
       "        vertical-align: middle;\n",
       "    }\n",
       "\n",
       "    .dataframe tbody tr th {\n",
       "        vertical-align: top;\n",
       "    }\n",
       "\n",
       "    .dataframe thead th {\n",
       "        text-align: right;\n",
       "    }\n",
       "</style>\n",
       "<table border=\"1\" class=\"dataframe\">\n",
       "  <thead>\n",
       "    <tr style=\"text-align: right;\">\n",
       "      <th></th>\n",
       "      <th>AAPL</th>\n",
       "      <th>AMZN</th>\n",
       "      <th>FB</th>\n",
       "      <th>GOOG</th>\n",
       "      <th>MSFT</th>\n",
       "      <th>NFLX</th>\n",
       "      <th>NVDA</th>\n",
       "      <th>TSLA</th>\n",
       "      <th>Portfolio</th>\n",
       "    </tr>\n",
       "    <tr>\n",
       "      <th>Date</th>\n",
       "      <th></th>\n",
       "      <th></th>\n",
       "      <th></th>\n",
       "      <th></th>\n",
       "      <th></th>\n",
       "      <th></th>\n",
       "      <th></th>\n",
       "      <th></th>\n",
       "      <th></th>\n",
       "    </tr>\n",
       "  </thead>\n",
       "  <tbody>\n",
       "    <tr>\n",
       "      <th>2012-05-21</th>\n",
       "      <td>0.058261</td>\n",
       "      <td>0.019920</td>\n",
       "      <td>-0.109861</td>\n",
       "      <td>0.022835</td>\n",
       "      <td>0.016399</td>\n",
       "      <td>0.025443</td>\n",
       "      <td>0.017384</td>\n",
       "      <td>0.043904</td>\n",
       "      <td>0.011786</td>\n",
       "    </tr>\n",
       "    <tr>\n",
       "      <th>2012-05-22</th>\n",
       "      <td>-0.007679</td>\n",
       "      <td>-0.012746</td>\n",
       "      <td>-0.089039</td>\n",
       "      <td>-0.021674</td>\n",
       "      <td>0.000336</td>\n",
       "      <td>-0.056175</td>\n",
       "      <td>-0.012205</td>\n",
       "      <td>0.070560</td>\n",
       "      <td>-0.016078</td>\n",
       "    </tr>\n",
       "    <tr>\n",
       "      <th>2012-05-23</th>\n",
       "      <td>0.024400</td>\n",
       "      <td>0.009056</td>\n",
       "      <td>0.032258</td>\n",
       "      <td>0.014414</td>\n",
       "      <td>-0.021841</td>\n",
       "      <td>0.062029</td>\n",
       "      <td>0.024712</td>\n",
       "      <td>0.007143</td>\n",
       "      <td>0.019021</td>\n",
       "    </tr>\n",
       "    <tr>\n",
       "      <th>2012-05-24</th>\n",
       "      <td>-0.009184</td>\n",
       "      <td>-0.009389</td>\n",
       "      <td>0.032187</td>\n",
       "      <td>-0.009517</td>\n",
       "      <td>-0.001374</td>\n",
       "      <td>-0.022806</td>\n",
       "      <td>-0.026528</td>\n",
       "      <td>-0.023856</td>\n",
       "      <td>-0.008808</td>\n",
       "    </tr>\n",
       "    <tr>\n",
       "      <th>2012-05-25</th>\n",
       "      <td>-0.005359</td>\n",
       "      <td>-0.010918</td>\n",
       "      <td>-0.033909</td>\n",
       "      <td>-0.020094</td>\n",
       "      <td>-0.000344</td>\n",
       "      <td>-0.000711</td>\n",
       "      <td>0.023947</td>\n",
       "      <td>-0.015522</td>\n",
       "      <td>-0.007864</td>\n",
       "    </tr>\n",
       "  </tbody>\n",
       "</table>\n",
       "</div>"
      ],
      "text/plain": [
       "                AAPL      AMZN        FB      GOOG      MSFT      NFLX  \\\n",
       "Date                                                                     \n",
       "2012-05-21  0.058261  0.019920 -0.109861  0.022835  0.016399  0.025443   \n",
       "2012-05-22 -0.007679 -0.012746 -0.089039 -0.021674  0.000336 -0.056175   \n",
       "2012-05-23  0.024400  0.009056  0.032258  0.014414 -0.021841  0.062029   \n",
       "2012-05-24 -0.009184 -0.009389  0.032187 -0.009517 -0.001374 -0.022806   \n",
       "2012-05-25 -0.005359 -0.010918 -0.033909 -0.020094 -0.000344 -0.000711   \n",
       "\n",
       "                NVDA      TSLA  Portfolio  \n",
       "Date                                       \n",
       "2012-05-21  0.017384  0.043904   0.011786  \n",
       "2012-05-22 -0.012205  0.070560  -0.016078  \n",
       "2012-05-23  0.024712  0.007143   0.019021  \n",
       "2012-05-24 -0.026528 -0.023856  -0.008808  \n",
       "2012-05-25  0.023947 -0.015522  -0.007864  "
      ]
     },
     "execution_count": 120,
     "metadata": {},
     "output_type": "execute_result"
    }
   ],
   "source": [
    "returns.head()"
   ]
  },
  {
   "cell_type": "code",
   "execution_count": 121,
   "metadata": {
    "inputHidden": false,
    "outputHidden": false
   },
   "outputs": [
    {
     "name": "stdout",
     "output_type": "stream",
     "text": [
      "                 AAPL       AMZN        FB      GOOG       MSFT       NFLX  \\\n",
      "Date                                                                         \n",
      "2022-04-21  10.260385  13.869160  4.919435  8.354817  11.722749  21.834477   \n",
      "2022-04-22   9.974929  13.500117  4.815851  7.998824  11.439710  21.564323   \n",
      "2022-04-25  10.042132  13.661351  4.891185  8.241970  11.718992  21.003002   \n",
      "2022-04-26   9.667278  13.036334  4.733194  7.991602  11.280657  19.851343   \n",
      "2022-04-27   9.653098  12.921861  4.576249  7.691647  11.823357  18.864779   \n",
      "\n",
      "                 NVDA        TSLA  Portfolio  \n",
      "Date                                          \n",
      "2022-04-21  72.764814  183.015242  28.925732  \n",
      "2022-04-22  70.356502  182.338529  28.233657  \n",
      "2022-04-25  71.751739  181.063136  28.501667  \n",
      "2022-04-26  67.735488  159.002172  27.020258  \n",
      "2022-04-27  66.390724  159.925616  26.694076  \n"
     ]
    }
   ],
   "source": [
    "# Calculate cumulative returns\n",
    "daily_cum_ret=(1+returns).cumprod()\n",
    "print(daily_cum_ret.tail())"
   ]
  },
  {
   "cell_type": "code",
   "execution_count": 122,
   "metadata": {
    "inputHidden": false,
    "outputHidden": false
   },
   "outputs": [
    {
     "data": {
      "image/png": "[encoded data removed]",
      "text/plain": [
       "<Figure size 432x288 with 1 Axes>"
      ]
     },
     "metadata": {
      "needs_background": "light"
     },
     "output_type": "display_data"
    }
   ],
   "source": [
    "returns['Portfolio'].hist()\n",
    "plt.show()"
   ]
  },
  {
   "cell_type": "code",
   "execution_count": 123,
   "metadata": {
    "inputHidden": false,
    "outputHidden": false
   },
   "outputs": [
    {
     "data": {
      "image/png": "[encoded data removed]",
      "text/plain": [
       "<Figure size 432x288 with 1 Axes>"
      ]
     },
     "metadata": {
      "needs_background": "light"
     },
     "output_type": "display_data"
    }
   ],
   "source": [
    "import matplotlib.dates\n",
    "\n",
    "# Plot the portfolio cumulative returns only\n",
    "fig, ax = plt.subplots()\n",
    "ax.plot(daily_cum_ret.index, daily_cum_ret.Portfolio, color='purple', label=\"portfolio\")\n",
    "ax.xaxis.set_major_locator(matplotlib.dates.YearLocator())\n",
    "plt.legend()\n",
    "plt.show()"
   ]
  },
  {
   "cell_type": "code",
   "execution_count": 124,
   "metadata": {
    "inputHidden": false,
    "outputHidden": false
   },
   "outputs": [
    {
     "name": "stdout",
     "output_type": "stream",
     "text": [
      "mean :  0.14439057495694776\n",
      "Std. dev:  1.607540832027899\n",
      "skew:  -0.5028941655968493\n",
      "kurt:  4.843696386947798\n"
     ]
    }
   ],
   "source": [
    "# Print the mean\n",
    "print(\"mean : \", returns['Portfolio'].mean()*100)\n",
    "\n",
    "# Print the standard deviation\n",
    "print(\"Std. dev: \", returns['Portfolio'].std()*100)\n",
    "\n",
    "# Print the skewness\n",
    "print(\"skew: \", returns['Portfolio'].skew())\n",
    "\n",
    "# Print the kurtosis\n",
    "print(\"kurt: \", returns['Portfolio'].kurtosis())"
   ]
  },
  {
   "cell_type": "code",
   "execution_count": 125,
   "metadata": {
    "inputHidden": false,
    "outputHidden": false
   },
   "outputs": [
    {
     "name": "stdout",
     "output_type": "stream",
     "text": [
      "25.417452%\n"
     ]
    }
   ],
   "source": [
    "# Calculate the standard deviation by taking the square root\n",
    "port_standard_dev = np.sqrt(np.dot(weights.T, np.dot(weights, cov_matrix)))\n",
    "\n",
    "# Print the results \n",
    "print(str(np.round(port_standard_dev, 8) * 100) + '%')"
   ]
  },
  {
   "cell_type": "code",
   "execution_count": 126,
   "metadata": {
    "inputHidden": false,
    "outputHidden": false
   },
   "outputs": [
    {
     "name": "stdout",
     "output_type": "stream",
     "text": [
      "6.460469000000001%\n"
     ]
    }
   ],
   "source": [
    "# Calculate the portfolio variance\n",
    "port_variance = np.dot(weights.T, np.dot(cov_matrix, weights))\n",
    "\n",
    "# Print the result\n",
    "print(str(np.round(port_variance, 8) * 100) + '%')"
   ]
  },
  {
   "cell_type": "code",
   "execution_count": 127,
   "metadata": {
    "inputHidden": false,
    "outputHidden": false
   },
   "outputs": [
    {
     "name": "stdout",
     "output_type": "stream",
     "text": [
      "-2.0242768661450894\n"
     ]
    }
   ],
   "source": [
    "# Calculate total return and annualized return from price data \n",
    "total_return = (returns['Portfolio'][-1] - returns['Portfolio'][0]) / returns['Portfolio'][0]\n",
    "print(total_return)"
   ]
  },
  {
   "cell_type": "code",
   "execution_count": 128,
   "metadata": {},
   "outputs": [
    {
     "data": {
      "text/plain": [
       "-0.012071749650697267"
      ]
     },
     "execution_count": 128,
     "metadata": {},
     "output_type": "execute_result"
    }
   ],
   "source": [
    "returns['Portfolio'][-1]"
   ]
  },
  {
   "cell_type": "code",
   "execution_count": 129,
   "metadata": {},
   "outputs": [
    {
     "data": {
      "text/plain": [
       "0.011785631453466117"
      ]
     },
     "execution_count": 129,
     "metadata": {},
     "output_type": "execute_result"
    }
   ],
   "source": [
    "returns['Portfolio'][0]"
   ]
  },
  {
   "cell_type": "code",
   "execution_count": 130,
   "metadata": {},
   "outputs": [
    {
     "data": {
      "text/plain": [
       "Date\n",
       "2012-05-21    0.011786\n",
       "2012-05-22   -0.016078\n",
       "2012-05-23    0.019021\n",
       "2012-05-24   -0.008808\n",
       "2012-05-25   -0.007864\n",
       "                ...   \n",
       "2022-04-21   -0.026507\n",
       "2022-04-22   -0.023926\n",
       "2022-04-25    0.009493\n",
       "2022-04-26   -0.051976\n",
       "2022-04-27   -0.012072\n",
       "Name: Portfolio, Length: 2501, dtype: float64"
      ]
     },
     "execution_count": 130,
     "metadata": {},
     "output_type": "execute_result"
    }
   ],
   "source": [
    "returns['Portfolio']"
   ]
  },
  {
   "cell_type": "code",
   "execution_count": 131,
   "metadata": {},
   "outputs": [
    {
     "name": "stdout",
     "output_type": "stream",
     "text": [
      "nan\n"
     ]
    }
   ],
   "source": [
    "# Annualize the total return over 10 year \n",
    "annualized_return = ((total_return + 1)**(1/10))-1\n",
    "print(annualized_return)"
   ]
  },
  {
   "cell_type": "code",
   "execution_count": 132,
   "metadata": {
    "inputHidden": false,
    "outputHidden": false
   },
   "outputs": [],
   "source": [
    "# Calculate annualized volatility from the standard deviation\n",
    "vol_port = returns['Portfolio'].std() * np.sqrt(1000)"
   ]
  },
  {
   "cell_type": "code",
   "execution_count": 133,
   "metadata": {
    "inputHidden": false,
    "outputHidden": false
   },
   "outputs": [
    {
     "name": "stdout",
     "output_type": "stream",
     "text": [
      "nan\n"
     ]
    }
   ],
   "source": [
    "# Calculate the Sharpe ratio \n",
    "rf = 0.01\n",
    "sharpe_ratio = ((annualized_return - rf) / vol_port)\n",
    "print (sharpe_ratio)"
   ]
  },
  {
   "cell_type": "markdown",
   "metadata": {},
   "source": [
    "If the analysis results in a negative Sharpe ratio, it either means the risk-free rate is greater than the portfolio's return, or the portfolio's return is expected to be negative. "
   ]
  },
  {
   "cell_type": "code",
   "execution_count": 134,
   "metadata": {
    "inputHidden": false,
    "outputHidden": false
   },
   "outputs": [
    {
     "name": "stdout",
     "output_type": "stream",
     "text": [
      "Expected return:  0.14439057495694776\n",
      "--------------------------------------------------\n",
      "Downside risk:\n",
      "AAPL         1.614927\n",
      "AMZN         1.606079\n",
      "FB           2.150204\n",
      "GOOG         1.381397\n",
      "MSFT         1.460765\n",
      "NFLX         2.631706\n",
      "NVDA         2.240848\n",
      "TSLA         2.954914\n",
      "Portfolio    1.253606\n",
      "dtype: float64\n",
      "--------------------------------------------------\n",
      "Sortino ratio:\n",
      "AAPL        -0.529813\n",
      "AMZN        -0.532732\n",
      "FB          -0.397920\n",
      "GOOG        -0.619380\n",
      "MSFT        -0.585727\n",
      "NFLX        -0.325116\n",
      "NVDA        -0.381824\n",
      "TSLA        -0.289555\n",
      "Portfolio   -0.682519\n",
      "dtype: float64\n"
     ]
    }
   ],
   "source": [
    "# Create a downside return column with the negative returns only\n",
    "target = 0\n",
    "downside_returns = returns.loc[returns['Portfolio'] < target]\n",
    "\n",
    "# Calculate expected return and std dev of downside\n",
    "expected_return = returns['Portfolio'].mean()\n",
    "down_stdev = downside_returns.std()\n",
    "\n",
    "# Calculate the sortino ratio\n",
    "rf = 0.01\n",
    "sortino_ratio = (expected_return - rf)/down_stdev\n",
    "\n",
    "# Print the results\n",
    "print(\"Expected return: \", expected_return*100)\n",
    "print('-' * 50)\n",
    "print(\"Downside risk:\")\n",
    "print(down_stdev*100)\n",
    "print('-' * 50)\n",
    "print(\"Sortino ratio:\")\n",
    "print(sortino_ratio)"
   ]
  },
  {
   "cell_type": "code",
   "execution_count": 135,
   "metadata": {
    "inputHidden": false,
    "outputHidden": false
   },
   "outputs": [
    {
     "data": {
      "image/png": "[encoded data removed]",
      "text/plain": [
       "<Figure size 1080x1080 with 1 Axes>"
      ]
     },
     "metadata": {
      "needs_background": "light"
     },
     "output_type": "display_data"
    }
   ],
   "source": [
    "# Calculate the max value \n",
    "roll_max = returns['Portfolio'].rolling(center=False,min_periods=1,window=252).max()\n",
    "\n",
    "# Calculate the daily draw-down relative to the max\n",
    "daily_draw_down = returns['Portfolio']/roll_max - 1.0\n",
    "\n",
    "# Calculate the minimum (negative) daily draw-down\n",
    "max_daily_draw_down = daily_draw_down.rolling(center=False,min_periods=1,window=252).min()\n",
    "\n",
    "# Plot the results\n",
    "plt.figure(figsize=(15,15))\n",
    "plt.plot(returns.index, daily_draw_down, label='Daily drawdown')\n",
    "plt.plot(returns.index, max_daily_draw_down, label='Maximum daily drawdown in time-window')\n",
    "plt.legend()\n",
    "plt.show()"
   ]
  },
  {
   "cell_type": "code",
   "execution_count": null,
   "metadata": {},
   "outputs": [],
   "source": []
  },
  {
   "cell_type": "code",
   "execution_count": null,
   "metadata": {},
   "outputs": [],
   "source": []
  }
 ],
 "metadata": {
  "kernel_info": {
   "name": "python3"
  },
  "kernelspec": {
   "display_name": "Python 3 (ipykernel)",
   "language": "python",
   "name": "python3"
  },
  "language_info": {
   "codemirror_mode": {
    "name": "ipython",
    "version": 3
   },
   "file_extension": ".py",
   "mimetype": "text/x-python",
   "name": "python",
   "nbconvert_exporter": "python",
   "pygments_lexer": "ipython3",
   "version": "3.9.7"
  },
  "nteract": {
   "version": "0.15.0"
  }
 },
 "nbformat": 4,
 "nbformat_minor": 1
}
